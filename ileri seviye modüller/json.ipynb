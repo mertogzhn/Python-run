{
 "cells": [
  {
   "cell_type": "code",
   "execution_count": 4,
   "metadata": {},
   "outputs": [],
   "source": [
    "import json"
   ]
  },
  {
   "cell_type": "code",
   "execution_count": 6,
   "metadata": {},
   "outputs": [
    {
     "name": "stdout",
     "output_type": "stream",
     "text": [
      "Ali\n",
      "<class 'str'>\n"
     ]
    }
   ],
   "source": [
    "person_string = '{\"name\":\"Ali\",\"languages\":[\"python\",\"C#\"]}'\n",
    "\n",
    "#JSON string to Dict\n",
    "#result = json.loads(person_string)\n",
    "#result= result[\"name\"]\n",
    "#print(result)\n",
    "#print(type(person_string))\n"
   ]
  },
  {
   "cell_type": "code",
   "execution_count": 8,
   "metadata": {},
   "outputs": [
    {
     "name": "stdout",
     "output_type": "stream",
     "text": [
      "Ali\n"
     ]
    }
   ],
   "source": [
    "with open(\"person.json\")as f:\n",
    "    data=json.load(f)\n",
    "    print(data[\"name\"])\n",
    "    print(data[\"languages\"])"
   ]
  },
  {
   "cell_type": "code",
   "execution_count": 14,
   "metadata": {},
   "outputs": [
    {
     "name": "stdout",
     "output_type": "stream",
     "text": [
      "{\"name\": \"Mert\", \"languages\": [\"Python\", \"C#\"]}\n",
      "<class 'str'>\n"
     ]
    }
   ],
   "source": [
    "#Dict to json\n",
    "\n",
    "person_dict={\n",
    "    \"name\":\"Mert\",\n",
    "    \"languages\":[\"Python\",\"C#\"]\n",
    "}\n",
    "\n",
    "result =json.dumps(person_dict)\n",
    "\n",
    "print(result)\n",
    "print(type(result))\n",
    "#print(result[\"name\"]) artık bir str olduğu için içinden name i çekemedik\n",
    "\n"
   ]
  },
  {
   "cell_type": "code",
   "execution_count": 16,
   "metadata": {},
   "outputs": [
    {
     "name": "stdout",
     "output_type": "stream",
     "text": [
      "Mert\n"
     ]
    }
   ],
   "source": [
    "#JSON string to Dict\n",
    "data = json.loads(result)\n",
    "print(data[\"name\"])"
   ]
  },
  {
   "cell_type": "code",
   "execution_count": 17,
   "metadata": {},
   "outputs": [],
   "source": [
    "#Dosyaya yazma\n",
    "with open(\"person.json\",\"w\") as f:\n",
    "    json.dump(person_dict,f)"
   ]
  },
  {
   "cell_type": "code",
   "execution_count": 21,
   "metadata": {},
   "outputs": [
    {
     "name": "stdout",
     "output_type": "stream",
     "text": [
      "{\n",
      "    \"languages\": [\n",
      "        \"python\",\n",
      "        \"C#\"\n",
      "    ],\n",
      "    \"name\": \"Ali\"\n",
      "}\n",
      "{'name': 'Ali', 'languages': ['python', 'C#']}\n"
     ]
    }
   ],
   "source": [
    "person_string = '{\"name\":\"Ali\",\"languages\":[\"python\",\"C#\"]}'\n",
    "person_dict = {\"name\":\"Mert\",\"languages\":[\"Python\",\"C#\"]}\n",
    "\n",
    "person_dict=json.loads(person_string)\n",
    "\n",
    "result=json.dumps(person_dict,indent= 4,sort_keys=True) #düzenli yazmak için kullanıldı\n",
    "\n",
    "print(result)\n",
    "print(person_dict)"
   ]
  },
  {
   "cell_type": "code",
   "execution_count": 37,
   "metadata": {},
   "outputs": [
    {
     "name": "stdout",
     "output_type": "stream",
     "text": [
      "<class 'str'>\n",
      "{\"name\": \"Mert\", \"languages\": [\"Python\", \"C#\"]}\n"
     ]
    }
   ],
   "source": [
    "desidero={\"name\":\"Desidero\",\"languages\":[\"Tr\",\"Er\"]}\n",
    "\n",
    "result =json.dumps(desidero)\n",
    "\n",
    "print(type(result))\n",
    "\n",
    "#with open(\"person.json\",\"a\") as f:\n",
    "#    json.dump(desidero,f)\n",
    "\n",
    "with open(\"person.json\",\"r\")as f:\n",
    "    icerik=f.read()\n",
    "    print(icerik)\n",
    "\n"
   ]
  },
  {
   "cell_type": "code",
   "execution_count": null,
   "metadata": {},
   "outputs": [],
   "source": []
  }
 ],
 "metadata": {
  "interpreter": {
   "hash": "cef46d8763824d289992c8860a3089a1bef4a42fe2d41953bcdbf60b30f3f62d"
  },
  "kernelspec": {
   "display_name": "Python 3.8.10 64-bit (windows store)",
   "language": "python",
   "name": "python3"
  },
  "language_info": {
   "codemirror_mode": {
    "name": "ipython",
    "version": 3
   },
   "file_extension": ".py",
   "mimetype": "text/x-python",
   "name": "python",
   "nbconvert_exporter": "python",
   "pygments_lexer": "ipython3",
   "version": "3.8.10"
  },
  "orig_nbformat": 4
 },
 "nbformat": 4,
 "nbformat_minor": 2
}
