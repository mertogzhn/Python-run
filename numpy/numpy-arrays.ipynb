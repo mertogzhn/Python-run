{
 "cells": [
  {
   "cell_type": "code",
   "execution_count": 3,
   "metadata": {},
   "outputs": [],
   "source": [
    "import numpy as np"
   ]
  },
  {
   "cell_type": "code",
   "execution_count": 6,
   "metadata": {},
   "outputs": [
    {
     "name": "stdout",
     "output_type": "stream",
     "text": [
      "[ 1  4  7 10 13 16 19 22 25 28 31 34 37 40 43 46 49 52 55 58 61 64 67 70\n",
      " 73 76 79 82 85 88 91 94 97]\n"
     ]
    }
   ],
   "source": [
    "#1 den 10 a array oluşturur\n",
    "result = np.arange(1,10)\n",
    "result = np.arange(1,100,3)\n",
    "print(result)"
   ]
  },
  {
   "cell_type": "code",
   "execution_count": 10,
   "metadata": {},
   "outputs": [
    {
     "name": "stdout",
     "output_type": "stream",
     "text": [
      "[1. 1. 1. 1. 1. 1. 1. 1. 1. 1.]\n"
     ]
    }
   ],
   "source": [
    "#\n",
    "result = np.zeros(10)\n",
    "result = np.ones(10)\n",
    "print(result)"
   ]
  },
  {
   "cell_type": "code",
   "execution_count": 33,
   "metadata": {},
   "outputs": [
    {
     "name": "stdout",
     "output_type": "stream",
     "text": [
      "[  0.  25.  50.  75. 100.]\n"
     ]
    }
   ],
   "source": [
    "#sıfırdan 100 e 5 eşit parçaya böler\n",
    "result = np.linspace(0,100,5)\n",
    "print(result)"
   ]
  },
  {
   "cell_type": "code",
   "execution_count": 47,
   "metadata": {},
   "outputs": [
    {
     "name": "stdout",
     "output_type": "stream",
     "text": [
      "[0.24741037 0.21510535 0.38484273 0.14618024 0.40991241]\n"
     ]
    }
   ],
   "source": [
    "result=np.random.randint(0,10)\n",
    "result=np.random.randint(10)\n",
    "result=np.random.randint(1,10,3)\n",
    "\n",
    "#0 ile 1 arasında 5 sayı üret\n",
    "result=np.random.rand(5)\n",
    "print(result)"
   ]
  },
  {
   "cell_type": "code",
   "execution_count": 52,
   "metadata": {},
   "outputs": [
    {
     "name": "stdout",
     "output_type": "stream",
     "text": [
      "[ 45 145 245 345 445]\n",
      "[100 105 110 115 120 125 130 135 140 145]\n"
     ]
    }
   ],
   "source": [
    "np_array=np.arange(50)\n",
    "np_multi= np_array.reshape(5,10)\n",
    "#satırların toplamı\n",
    "print(np_multi.sum(axis=1))\n",
    "#sutunların toplamı\n",
    "print(np_multi.sum(axis=0))\n",
    "\n",
    "#print(result)"
   ]
  },
  {
   "cell_type": "code",
   "execution_count": 84,
   "metadata": {},
   "outputs": [
    {
     "name": "stdout",
     "output_type": "stream",
     "text": [
      "45.6\n"
     ]
    }
   ],
   "source": [
    "rnd_numbers=np.random.randint(1,100,10)\n",
    "#result=rnd_numbers.max()\n",
    "result=rnd_numbers.min()\n",
    "#üretilen sayıların ortalaması\n",
    "result=rnd_numbers.mean()\n",
    "#print(rnd_numbers)\n",
    "print(result)"
   ]
  },
  {
   "cell_type": "code",
   "execution_count": 96,
   "metadata": {},
   "outputs": [
    {
     "name": "stdout",
     "output_type": "stream",
     "text": [
      "[55 85 16 84 49 53 17 46 59 28]\n",
      "1\n"
     ]
    }
   ],
   "source": [
    "rnd_numbers=np.random.randint(1,100,10)\n",
    "#üretilen en büyük sayının indexi\n",
    "result=rnd_numbers.argmax()\n",
    "print(rnd_numbers)\n",
    "print(result)"
   ]
  }
 ],
 "metadata": {
  "interpreter": {
   "hash": "cef46d8763824d289992c8860a3089a1bef4a42fe2d41953bcdbf60b30f3f62d"
  },
  "kernelspec": {
   "display_name": "Python 3.8.10 64-bit (windows store)",
   "language": "python",
   "name": "python3"
  },
  "language_info": {
   "codemirror_mode": {
    "name": "ipython",
    "version": 3
   },
   "file_extension": ".py",
   "mimetype": "text/x-python",
   "name": "python",
   "nbconvert_exporter": "python",
   "pygments_lexer": "ipython3",
   "version": "3.8.10"
  },
  "orig_nbformat": 4
 },
 "nbformat": 4,
 "nbformat_minor": 2
}
