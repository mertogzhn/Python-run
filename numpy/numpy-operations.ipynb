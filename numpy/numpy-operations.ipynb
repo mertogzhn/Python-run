{
 "cells": [
  {
   "cell_type": "code",
   "execution_count": 2,
   "metadata": {},
   "outputs": [],
   "source": [
    "import numpy as np\n"
   ]
  },
  {
   "cell_type": "code",
   "execution_count": 38,
   "metadata": {},
   "outputs": [
    {
     "name": "stdout",
     "output_type": "stream",
     "text": [
      "[60 72 28 54 30 61]\n",
      "[64 65 59 55 41 22]\n",
      "[60 72 28 54 30]\n",
      "[ True  True  True  True  True False]\n"
     ]
    }
   ],
   "source": [
    "numbers1 = np.random.randint(10,100,6)\n",
    "numbers2 = np.random.randint(10,100,6)\n",
    "\n",
    "print(numbers1)\n",
    "print(numbers2)\n",
    "\n",
    "result = numbers1+numbers2\n",
    "\n",
    "result = numbers1+10\n",
    "\n",
    "result = numbers1-numbers2\n",
    "\n",
    "result = numbers1-10\n",
    "\n",
    "result = numbers1 * numbers2\n",
    "\n",
    "result = numbers1 / numbers2\n",
    "\n",
    "result =np.sin(numbers1) #sinüs\n",
    "result =np.cos(numbers1) #kosinüs\n",
    "\n",
    "result =np.sqrt(numbers1) #karekök\n",
    "\n",
    "result =np.log(numbers1) #logaritma\n",
    "\n",
    "result=numbers1>=5 #[ True  True  True  True  True  True]\n",
    "result=numbers1%2==0\n",
    "\n",
    "print(numbers1[result]) # dizinin içindeki çift sayıları yazdırır #[22 10 66]\n",
    "\n",
    "print(result)\n"
   ]
  },
  {
   "cell_type": "code",
   "execution_count": 35,
   "metadata": {},
   "outputs": [
    {
     "name": "stdout",
     "output_type": "stream",
     "text": [
      "[[94 44 99]\n",
      " [32 61 60]]\n",
      "[[83 80 16]\n",
      " [86 93 16]]\n",
      "[ True  True False  True False  True]\n"
     ]
    }
   ],
   "source": [
    "numbers1 = np.random.randint(10,100,6)\n",
    "numbers2 = np.random.randint(10,100,6)\n",
    "\n",
    "mnumbers1=numbers1.reshape(2,3)\n",
    "mnumbers2=numbers2.reshape(2,3)\n",
    "\n",
    "print(mnumbers1)\n",
    "print(mnumbers2)\n",
    "\n",
    "result= np.vstack((mnumbers1,mnumbers2)) #dikey birleştirme\n",
    "result= np.hstack((mnumbers1,mnumbers2)) #yatay birleştime\n",
    "\n",
    "result=numbers1>=5 #[ True  True  True  True  True  True]\n",
    "result=numbers1%2==0\n",
    "\n",
    "\n",
    "\n",
    "print(result)"
   ]
  },
  {
   "cell_type": "code",
   "execution_count": null,
   "metadata": {},
   "outputs": [],
   "source": []
  }
 ],
 "metadata": {
  "interpreter": {
   "hash": "cef46d8763824d289992c8860a3089a1bef4a42fe2d41953bcdbf60b30f3f62d"
  },
  "kernelspec": {
   "display_name": "Python 3.8.10 64-bit (windows store)",
   "language": "python",
   "name": "python3"
  },
  "language_info": {
   "codemirror_mode": {
    "name": "ipython",
    "version": 3
   },
   "file_extension": ".py",
   "mimetype": "text/x-python",
   "name": "python",
   "nbconvert_exporter": "python",
   "pygments_lexer": "ipython3",
   "version": "3.8.10"
  },
  "orig_nbformat": 4
 },
 "nbformat": 4,
 "nbformat_minor": 2
}
