{
 "cells": [
  {
   "cell_type": "code",
   "execution_count": 1,
   "metadata": {},
   "outputs": [],
   "source": [
    "import numpy as np"
   ]
  },
  {
   "cell_type": "code",
   "execution_count": 6,
   "metadata": {},
   "outputs": [
    {
     "name": "stdout",
     "output_type": "stream",
     "text": [
      "[75 50 25 20 15 10  5  0]\n"
     ]
    }
   ],
   "source": [
    "numbers = np.array([0,5,10,15,20,25,50,75])\n",
    "\n",
    "result =numbers[5]\n",
    "result= numbers[0:3]\n",
    "result= numbers[:3]\n",
    "result= numbers[3:]\n",
    "result= numbers[::]\n",
    "result= numbers[::-1 ]#tersini yazdırır\n",
    "print(result)\n"
   ]
  },
  {
   "cell_type": "code",
   "execution_count": 23,
   "metadata": {},
   "outputs": [
    {
     "name": "stdout",
     "output_type": "stream",
     "text": [
      "[[ 0  5]\n",
      " [15 20]]\n"
     ]
    }
   ],
   "source": [
    "numbers2 = np.array([[0,5,10],[15,20,25],[50,75,85]])# [15,20,25] satır\n",
    "\n",
    "result=numbers2[0]\n",
    "result=numbers2[2]\n",
    "result=numbers2[0,2]\n",
    "result=numbers2[2,1]\n",
    "\n",
    "result=numbers2[:,2] # tüm satırların ikinci indexi [10 25 85], [:] = tüm satırlar\n",
    "result=numbers2[:,0]\n",
    "result=numbers2[:,0:2] \n",
    "\"\"\"[[ 0  5]\n",
    "    [15 20]\n",
    "    [50 75]]\"\"\"\n",
    "\n",
    "result=numbers2[-1,:] # [50 75 85]\n",
    "\n",
    "result=numbers2[:2,:2]\n",
    "\"\"\"\n",
    "[[ 0  5]\n",
    " [15 20]]\n",
    "\"\"\"\n",
    "\n",
    "print(result)"
   ]
  },
  {
   "cell_type": "code",
   "execution_count": 27,
   "metadata": {},
   "outputs": [
    {
     "name": "stdout",
     "output_type": "stream",
     "text": [
      "[0 1 2 3 4 5 6 7 8 9]\n",
      "[0 1 2 3 4 5 6 7 8 9]\n"
     ]
    }
   ],
   "source": [
    "arr1 = np.arange(0,10) # [0 1 2 3 4 5 6 7 8 9]\n",
    "arr2 = arr1 # referans\n",
    "\n",
    "print(arr1)\n",
    "print(arr2)"
   ]
  }
 ],
 "metadata": {
  "interpreter": {
   "hash": "cef46d8763824d289992c8860a3089a1bef4a42fe2d41953bcdbf60b30f3f62d"
  },
  "kernelspec": {
   "display_name": "Python 3.8.10 64-bit (windows store)",
   "language": "python",
   "name": "python3"
  },
  "language_info": {
   "codemirror_mode": {
    "name": "ipython",
    "version": 3
   },
   "file_extension": ".py",
   "mimetype": "text/x-python",
   "name": "python",
   "nbconvert_exporter": "python",
   "pygments_lexer": "ipython3",
   "version": "3.8.10"
  },
  "orig_nbformat": 4
 },
 "nbformat": 4,
 "nbformat_minor": 2
}
