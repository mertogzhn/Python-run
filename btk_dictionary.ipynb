{
 "cells": [
  {
   "cell_type": "code",
   "execution_count": 7,
   "id": "584bb9fe",
   "metadata": {},
   "outputs": [
    {
     "name": "stdout",
     "output_type": "stream",
     "text": [
      "41\n",
      "33\n"
     ]
    }
   ],
   "source": [
    "#plakalar={\"key\":\"value\"} dictionary kullanımı\n",
    "\n",
    "plakalar={\"Kocaeli\":41,\"İstanbul\":34,\"Mersin\":33,\"Bursa\":16}\n",
    "\n",
    "print(plakalar[\"Kocaeli\"])\n",
    "print(plakalar[\"Mersin\"])\n",
    "print(\"Fatih\")"
   ]
  },
  {
   "cell_type": "code",
   "execution_count": 8,
   "id": "24e38175",
   "metadata": {},
   "outputs": [
    {
     "name": "stdout",
     "output_type": "stream",
     "text": [
      "6\n"
     ]
    }
   ],
   "source": [
    "plakalar[\"Ankara\"]=6\n",
    "print(plakalar[\"Ankara\"])"
   ]
  },
  {
   "cell_type": "code",
   "execution_count": 9,
   "id": "63cac70c",
   "metadata": {},
   "outputs": [
    {
     "data": {
      "text/plain": [
       "{'Kocaeli': 41, 'İstanbul': 34, 'Mersin': 33, 'Bursa': 16, 'Ankara': 6}"
      ]
     },
     "execution_count": 9,
     "metadata": {},
     "output_type": "execute_result"
    }
   ],
   "source": [
    "plakalar"
   ]
  },
  {
   "cell_type": "code",
   "execution_count": 16,
   "id": "5a395146",
   "metadata": {},
   "outputs": [
    {
     "name": "stdout",
     "output_type": "stream",
     "text": [
      "24\n"
     ]
    }
   ],
   "source": [
    "user={\n",
    "    \"mertoguz\":{\"age\":24,\"email\":\"mert@appyazilim.com\",\"address\":\"Bursa\",\"roles\":[\"user\"]},\n",
    "    \"bilge\":{\"age\":23,\"email\":\"bilge@appyazilim.com\",\"address\":\"Mersin\",\"roles\":[\"admin,user\"]}\n",
    "}\n",
    "user[\"bilge\"]\n",
    "print(user[\"mertoguz\"][\"age\"])"
   ]
  },
  {
   "cell_type": "code",
   "execution_count": 18,
   "id": "36b93af0",
   "metadata": {},
   "outputs": [
    {
     "name": "stdout",
     "output_type": "stream",
     "text": [
      "['user']\n",
      "['admin,user']\n"
     ]
    }
   ],
   "source": [
    "print(user[\"mertoguz\"][\"roles\"])\n",
    "print(user[\"bilge\"][\"roles\"])"
   ]
  },
  {
   "cell_type": "code",
   "execution_count": null,
   "id": "b282c044",
   "metadata": {},
   "outputs": [],
   "source": []
  }
 ],
 "metadata": {
  "kernelspec": {
   "display_name": "Python 3",
   "language": "python",
   "name": "python3"
  },
  "language_info": {
   "codemirror_mode": {
    "name": "ipython",
    "version": 3
   },
   "file_extension": ".py",
   "mimetype": "text/x-python",
   "name": "python",
   "nbconvert_exporter": "python",
   "pygments_lexer": "ipython3",
   "version": "3.8.8"
  }
 },
 "nbformat": 4,
 "nbformat_minor": 5
}
