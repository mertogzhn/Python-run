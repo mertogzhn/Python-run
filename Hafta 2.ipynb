{
 "cells": [
  {
   "cell_type": "code",
   "execution_count": 13,
   "id": "ed9d0e03",
   "metadata": {},
   "outputs": [
    {
     "name": "stdout",
     "output_type": "stream",
     "text": [
      "0 mi 1 mi? : 1\n",
      "0 mi 1 mi? : 0\n",
      "0 mi 1 mi? : 1\n",
      "0 mi 1 mi? : 0\n",
      "0 mi 1 mi? : 1\n",
      "0 mi 1 mi? : 0\n",
      "0 mi 1 mi? : 1\n",
      "0 mi 1 mi? : 0\n",
      "0 mi 1 mi? : 1\n",
      "0 mi 1 mi? : 0\n",
      "Dogru sayisi {0} yanlis sayisi {1} (5, 5)\n"
     ]
    }
   ],
   "source": [
    "birler=0\n",
    "sifirlar=0\n",
    "for i in range(10):\n",
    "    a = int(input(\"0 mi 1 mi? : \"))\n",
    "    if a== 1:\n",
    "        birler+=1\n",
    "        \n",
    "    else:\n",
    "        sifirlar+=1\n",
    "        \n",
    "print(\"Dogru sayisi {0} yanlis sayisi {1}\",(birler, sifirlar))\n",
    "\n",
    "if birler >5:\n",
    "    print(\"Bonuss...\")\n",
    "\n",
    "        \n",
    "    "
   ]
  },
  {
   "cell_type": "code",
   "execution_count": 6,
   "id": "9da1d2e7",
   "metadata": {},
   "outputs": [],
   "source": [
    "toplam=0\n",
    "for i in range(0,101,2):\n",
    "    toplam+=i\n"
   ]
  },
  {
   "cell_type": "code",
   "execution_count": 7,
   "id": "62b52951",
   "metadata": {
    "scrolled": true
   },
   "outputs": [
    {
     "data": {
      "text/plain": [
       "2550"
      ]
     },
     "execution_count": 7,
     "metadata": {},
     "output_type": "execute_result"
    }
   ],
   "source": [
    "toplam"
   ]
  },
  {
   "cell_type": "code",
   "execution_count": 8,
   "id": "c0d05929",
   "metadata": {},
   "outputs": [
    {
     "name": "stdout",
     "output_type": "stream",
     "text": [
      "0 1 2 3 4 5 6 7 8 9 "
     ]
    }
   ],
   "source": [
    "for i in range(100):\n",
    "    if i ==10:\n",
    "        break\n",
    "    print(i, end=\" \")"
   ]
  },
  {
   "cell_type": "code",
   "execution_count": 10,
   "id": "a9f083e2",
   "metadata": {},
   "outputs": [
    {
     "name": "stdout",
     "output_type": "stream",
     "text": [
      "0 1 2 3 4 6 7 8 9 "
     ]
    }
   ],
   "source": [
    "for i in range(10):\n",
    "    if i ==5:\n",
    "        continue\n",
    "    print(i, end=\" \")"
   ]
  },
  {
   "cell_type": "code",
   "execution_count": 15,
   "id": "a7651188",
   "metadata": {},
   "outputs": [
    {
     "data": {
      "text/plain": [
       "62.0"
      ]
     },
     "execution_count": 15,
     "metadata": {},
     "output_type": "execute_result"
    }
   ],
   "source": [
    "liste=[100,55,46,86,98,14,35]\n",
    "sum(liste)\n",
    "len(liste)\n",
    "sum(liste)/len(liste)"
   ]
  },
  {
   "cell_type": "code",
   "execution_count": 16,
   "id": "ceac5e5f",
   "metadata": {},
   "outputs": [],
   "source": [
    "import statistics"
   ]
  },
  {
   "cell_type": "code",
   "execution_count": 17,
   "id": "005a5037",
   "metadata": {},
   "outputs": [
    {
     "data": {
      "text/plain": [
       "62"
      ]
     },
     "execution_count": 17,
     "metadata": {},
     "output_type": "execute_result"
    }
   ],
   "source": [
    "statistics.mean(liste)"
   ]
  },
  {
   "cell_type": "code",
   "execution_count": 19,
   "id": "9d6d1338",
   "metadata": {},
   "outputs": [
    {
     "data": {
      "text/plain": [
       "55"
      ]
     },
     "execution_count": 19,
     "metadata": {},
     "output_type": "execute_result"
    }
   ],
   "source": [
    "statistics.median(liste)"
   ]
  },
  {
   "cell_type": "code",
   "execution_count": 20,
   "id": "57546505",
   "metadata": {},
   "outputs": [
    {
     "data": {
      "text/plain": [
       "[14, 35, 46, 55, 86, 98, 100]"
      ]
     },
     "execution_count": 20,
     "metadata": {},
     "output_type": "execute_result"
    }
   ],
   "source": [
    "sorted(liste)"
   ]
  },
  {
   "cell_type": "code",
   "execution_count": null,
   "id": "8bdc32b6",
   "metadata": {},
   "outputs": [],
   "source": []
  }
 ],
 "metadata": {
  "kernelspec": {
   "display_name": "Python 3",
   "language": "python",
   "name": "python3"
  },
  "language_info": {
   "codemirror_mode": {
    "name": "ipython",
    "version": 3
   },
   "file_extension": ".py",
   "mimetype": "text/x-python",
   "name": "python",
   "nbconvert_exporter": "python",
   "pygments_lexer": "ipython3",
   "version": "3.8.8"
  }
 },
 "nbformat": 4,
 "nbformat_minor": 5
}
