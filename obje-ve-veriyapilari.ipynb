{
 "cells": [
  {
   "cell_type": "code",
   "execution_count": 1,
   "id": "41d8dc69",
   "metadata": {},
   "outputs": [],
   "source": [
    "cars=[\"BMW\",\"MERCEDES\",\"OPEL\",\"MAZDA\"]"
   ]
  },
  {
   "cell_type": "code",
   "execution_count": 2,
   "id": "2e75332e",
   "metadata": {},
   "outputs": [
    {
     "name": "stdout",
     "output_type": "stream",
     "text": [
      "4\n"
     ]
    }
   ],
   "source": [
    "result=len(cars)\n",
    "print(result)"
   ]
  },
  {
   "cell_type": "code",
   "execution_count": 7,
   "id": "f05040d6",
   "metadata": {},
   "outputs": [
    {
     "name": "stdout",
     "output_type": "stream",
     "text": [
      "BMW\n",
      "Toyata\n"
     ]
    }
   ],
   "source": [
    "print(cars[0])\n",
    "print(cars[-1])"
   ]
  },
  {
   "cell_type": "code",
   "execution_count": 6,
   "id": "7a46c87a",
   "metadata": {},
   "outputs": [],
   "source": [
    "cars[3]=\"Toyata\""
   ]
  },
  {
   "cell_type": "code",
   "execution_count": 11,
   "id": "b9c683cf",
   "metadata": {},
   "outputs": [
    {
     "name": "stdout",
     "output_type": "stream",
     "text": [
      "True\n"
     ]
    }
   ],
   "source": [
    "#mercedes listenin bir elemanı mıdır?\n",
    "result=\"MERCEDES\" in cars\n",
    "print(result)"
   ]
  },
  {
   "cell_type": "code",
   "execution_count": 13,
   "id": "04c35239",
   "metadata": {},
   "outputs": [
    {
     "name": "stdout",
     "output_type": "stream",
     "text": [
      "OPEL\n"
     ]
    }
   ],
   "source": [
    "print(cars[-2])"
   ]
  },
  {
   "cell_type": "code",
   "execution_count": 16,
   "id": "8634e0f8",
   "metadata": {},
   "outputs": [
    {
     "name": "stdout",
     "output_type": "stream",
     "text": [
      "BMW\n",
      "MERCEDES\n",
      "OPEL\n"
     ]
    }
   ],
   "source": [
    "#listenin ilk üç elemanı\n",
    "for i in cars[0:3]:\n",
    "    print(i)"
   ]
  },
  {
   "cell_type": "code",
   "execution_count": 20,
   "id": "cb06970c",
   "metadata": {},
   "outputs": [
    {
     "name": "stdout",
     "output_type": "stream",
     "text": [
      "['BMW', 'MERCEDES', 'toyata', 'reno']\n"
     ]
    }
   ],
   "source": [
    "#listenin son iki elemanını değiştir\n",
    "cars[-2:]=[\"toyata\",\"reno\"]\n",
    "print(cars)"
   ]
  },
  {
   "cell_type": "code",
   "execution_count": 22,
   "id": "13119217",
   "metadata": {},
   "outputs": [
    {
     "data": {
      "text/plain": [
       "['BMW', 'MERCEDES', 'toyata', 'reno', 'Audi', 'Nissan']"
      ]
     },
     "execution_count": 22,
     "metadata": {},
     "output_type": "execute_result"
    }
   ],
   "source": [
    "result =cars+[\"Audi\",\"Nissan\"]\n",
    "result"
   ]
  },
  {
   "cell_type": "code",
   "execution_count": 27,
   "id": "52071bb0",
   "metadata": {},
   "outputs": [
    {
     "data": {
      "text/plain": [
       "['BMW', 'MERCEDES', 'OPEL']"
      ]
     },
     "execution_count": 27,
     "metadata": {},
     "output_type": "execute_result"
    }
   ],
   "source": [
    "#lisrenin son elemanını sil\n",
    "del cars[-1]\n",
    "cars"
   ]
  },
  {
   "cell_type": "code",
   "execution_count": 28,
   "id": "365109c0",
   "metadata": {},
   "outputs": [
    {
     "data": {
      "text/plain": [
       "['OPEL', 'MERCEDES', 'BMW']"
      ]
     },
     "execution_count": 28,
     "metadata": {},
     "output_type": "execute_result"
    }
   ],
   "source": [
    "#listeyi tersten yazdırma\n",
    "result = cars[::-1]\n",
    "result"
   ]
  },
  {
   "cell_type": "code",
   "execution_count": 35,
   "id": "820e3451",
   "metadata": {},
   "outputs": [],
   "source": [
    "studentA=[\"Yigit\",\"Bilgin\",2010,[70,60,70]]\n",
    "studentB=[\"Sena\",\"Turan\",1999,[80,80,70]]\n",
    "studentC=[\"Ahmet\",\"Turan\",1998,[80,70,90]]\n",
    "\n",
    "students=[studentA,studentB,studentC]"
   ]
  },
  {
   "cell_type": "code",
   "execution_count": 60,
   "id": "7a422414",
   "metadata": {},
   "outputs": [
    {
     "data": {
      "text/plain": [
       "70"
      ]
     },
     "execution_count": 60,
     "metadata": {},
     "output_type": "execute_result"
    }
   ],
   "source": [
    "students[1][3][1]\n",
    "studentA[3][0]"
   ]
  },
  {
   "cell_type": "code",
   "execution_count": 62,
   "id": "06c19518",
   "metadata": {},
   "outputs": [
    {
     "data": {
      "text/plain": [
       "'Yigit Bilgin 12 yaşında ve not ortalaması 70.0'"
      ]
     },
     "execution_count": 62,
     "metadata": {},
     "output_type": "execute_result"
    }
   ],
   "source": [
    "result =f\"{studentA[0]} {studentA[1]} {2022-studentA[2]} yaşında ve not ortalaması {(studentA[3][0]+studentA[3][0]+studentA[3][0])/3}\"\n",
    "result"
   ]
  },
  {
   "cell_type": "code",
   "execution_count": 63,
   "id": "6da0387c",
   "metadata": {},
   "outputs": [
    {
     "data": {
      "text/plain": [
       "188.0"
      ]
     },
     "execution_count": 63,
     "metadata": {},
     "output_type": "execute_result"
    }
   ],
   "source": [
    "564/3"
   ]
  },
  {
   "cell_type": "code",
   "execution_count": null,
   "id": "23b4927e",
   "metadata": {},
   "outputs": [],
   "source": []
  }
 ],
 "metadata": {
  "kernelspec": {
   "display_name": "Python 3",
   "language": "python",
   "name": "python3"
  },
  "language_info": {
   "codemirror_mode": {
    "name": "ipython",
    "version": 3
   },
   "file_extension": ".py",
   "mimetype": "text/x-python",
   "name": "python",
   "nbconvert_exporter": "python",
   "pygments_lexer": "ipython3",
   "version": "3.8.8"
  }
 },
 "nbformat": 4,
 "nbformat_minor": 5
}
