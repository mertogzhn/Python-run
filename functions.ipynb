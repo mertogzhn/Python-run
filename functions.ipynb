{
 "cells": [
  {
   "cell_type": "code",
   "execution_count": 12,
   "id": "d9c8c606",
   "metadata": {},
   "outputs": [],
   "source": [
    "def sayHello(name=\"user\"):\n",
    "    print(\"Hello \"+name)"
   ]
  },
  {
   "cell_type": "code",
   "execution_count": 13,
   "id": "0c09a58a",
   "metadata": {},
   "outputs": [
    {
     "name": "stdout",
     "output_type": "stream",
     "text": [
      "Hello mert\n"
     ]
    }
   ],
   "source": [
    "sayHello(\"mert\")"
   ]
  },
  {
   "cell_type": "code",
   "execution_count": 15,
   "id": "6545412a",
   "metadata": {},
   "outputs": [],
   "source": [
    "def sayHello2(name=\"user\"):\n",
    "    return \"Hello \"+name"
   ]
  },
  {
   "cell_type": "code",
   "execution_count": 16,
   "id": "88aa04ec",
   "metadata": {},
   "outputs": [
    {
     "name": "stdout",
     "output_type": "stream",
     "text": [
      "Hello mert\n"
     ]
    }
   ],
   "source": [
    "msg=(sayHello2(\"mert\"))\n",
    "print(msg)"
   ]
  },
  {
   "cell_type": "code",
   "execution_count": 17,
   "id": "a73c7503",
   "metadata": {},
   "outputs": [],
   "source": [
    "def total(num1,num2):\n",
    "    return num1+num2"
   ]
  },
  {
   "cell_type": "code",
   "execution_count": 19,
   "id": "045eff73",
   "metadata": {},
   "outputs": [
    {
     "name": "stdout",
     "output_type": "stream",
     "text": [
      "14\n"
     ]
    }
   ],
   "source": [
    "result=total(5,9)\n",
    "\n",
    "print(result)"
   ]
  },
  {
   "cell_type": "code",
   "execution_count": 24,
   "id": "7c55077a",
   "metadata": {},
   "outputs": [],
   "source": [
    "import datetime\n",
    "\n",
    "def yasHesapla(dogumYili):\n",
    "    return datetime.datetime.now().year - dogumYili"
   ]
  },
  {
   "cell_type": "code",
   "execution_count": 25,
   "id": "e73ccc87",
   "metadata": {},
   "outputs": [
    {
     "name": "stdout",
     "output_type": "stream",
     "text": [
      "66\n"
     ]
    }
   ],
   "source": [
    "ageMert=yasHesapla(1956)\n",
    "\n",
    "print(ageMert)"
   ]
  },
  {
   "cell_type": "code",
   "execution_count": null,
   "id": "1409610f",
   "metadata": {},
   "outputs": [],
   "source": []
  }
 ],
 "metadata": {
  "kernelspec": {
   "display_name": "Python 3",
   "language": "python",
   "name": "python3"
  },
  "language_info": {
   "codemirror_mode": {
    "name": "ipython",
    "version": 3
   },
   "file_extension": ".py",
   "mimetype": "text/x-python",
   "name": "python",
   "nbconvert_exporter": "python",
   "pygments_lexer": "ipython3",
   "version": "3.8.8"
  }
 },
 "nbformat": 4,
 "nbformat_minor": 5
}
