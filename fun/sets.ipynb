{
 "cells": [
  {
   "cell_type": "code",
   "execution_count": 23,
   "id": "303f6e88",
   "metadata": {},
   "outputs": [
    {
     "name": "stdout",
     "output_type": "stream",
     "text": [
      "apple\n",
      "banana\n",
      "orange\n"
     ]
    }
   ],
   "source": [
    "fruits ={\"orange\",\"apple\",\"banana\"}\n",
    "\n",
    "#print(fruits[0]) indekslenemez\n",
    "\n",
    "for x in fruits:\n",
    "    print(x)"
   ]
  },
  {
   "cell_type": "code",
   "execution_count": 24,
   "id": "17c03124",
   "metadata": {},
   "outputs": [],
   "source": [
    "fruits.add(\"cherry\")\n",
    "\n",
    "#setslerde aynı eleman eklenmez ve indexlerine ulaşılamaz\n",
    "#Ayrıca sıralama yapılamaz\n",
    "fruits.add(\"cherry\")\n",
    "\n",
    "fruits.add(\"apple\")"
   ]
  },
  {
   "cell_type": "code",
   "execution_count": 28,
   "id": "dbc26ed5",
   "metadata": {},
   "outputs": [],
   "source": [
    "for x in fruits:\n",
    "    print(x)"
   ]
  },
  {
   "cell_type": "code",
   "execution_count": 26,
   "id": "f54fcf02",
   "metadata": {},
   "outputs": [],
   "source": [
    "fruits.update([\"mango\",\"grape\"])"
   ]
  },
  {
   "cell_type": "code",
   "execution_count": 20,
   "id": "0a9ce65a",
   "metadata": {},
   "outputs": [],
   "source": [
    "fruits.discard(\"apple\")\n",
    "fruits.remove(\"mango\")"
   ]
  },
  {
   "cell_type": "code",
   "execution_count": 21,
   "id": "b68611f2",
   "metadata": {},
   "outputs": [
    {
     "data": {
      "text/plain": [
       "'banana'"
      ]
     },
     "execution_count": 21,
     "metadata": {},
     "output_type": "execute_result"
    }
   ],
   "source": [
    "fruits.pop()"
   ]
  },
  {
   "cell_type": "code",
   "execution_count": 27,
   "id": "8efa1e9d",
   "metadata": {},
   "outputs": [],
   "source": [
    "fruits.clear()"
   ]
  },
  {
   "cell_type": "code",
   "execution_count": null,
   "id": "623932fa",
   "metadata": {},
   "outputs": [],
   "source": []
  }
 ],
 "metadata": {
  "kernelspec": {
   "display_name": "Python 3",
   "language": "python",
   "name": "python3"
  },
  "language_info": {
   "codemirror_mode": {
    "name": "ipython",
    "version": 3
   },
   "file_extension": ".py",
   "mimetype": "text/x-python",
   "name": "python",
   "nbconvert_exporter": "python",
   "pygments_lexer": "ipython3",
   "version": "3.8.8"
  }
 },
 "nbformat": 4,
 "nbformat_minor": 5
}
