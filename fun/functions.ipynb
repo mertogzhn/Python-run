{
 "cells": [
  {
   "cell_type": "code",
   "execution_count": 4,
   "id": "d9c8c606",
   "metadata": {},
   "outputs": [],
   "source": [
    "def sayHello(name=\"user\"):\n",
    "    print(\"Hello \"+name)"
   ]
  },
  {
   "cell_type": "code",
   "execution_count": 5,
   "id": "0c09a58a",
   "metadata": {},
   "outputs": [
    {
     "name": "stdout",
     "output_type": "stream",
     "text": [
      "Hello mert\n"
     ]
    }
   ],
   "source": [
    "sayHello(\"mert\")"
   ]
  },
  {
   "cell_type": "code",
   "execution_count": 6,
   "id": "6545412a",
   "metadata": {},
   "outputs": [],
   "source": [
    "def sayHello2(name=\"user\"):\n",
    "    return \"Hello \"+name"
   ]
  },
  {
   "cell_type": "code",
   "execution_count": 7,
   "id": "88aa04ec",
   "metadata": {},
   "outputs": [
    {
     "name": "stdout",
     "output_type": "stream",
     "text": [
      "Hello mert\n"
     ]
    }
   ],
   "source": [
    "msg=(sayHello2(\"mert\"))\n",
    "print(msg)"
   ]
  },
  {
   "cell_type": "code",
   "execution_count": 8,
   "id": "a73c7503",
   "metadata": {},
   "outputs": [],
   "source": [
    "def total(num1,num2):\n",
    "    return num1+num2"
   ]
  },
  {
   "cell_type": "code",
   "execution_count": 9,
   "id": "045eff73",
   "metadata": {},
   "outputs": [
    {
     "name": "stdout",
     "output_type": "stream",
     "text": [
      "14\n"
     ]
    }
   ],
   "source": [
    "result=total(5,9)\n",
    "\n",
    "print(result)"
   ]
  },
  {
   "cell_type": "code",
   "execution_count": 10,
   "id": "7c55077a",
   "metadata": {},
   "outputs": [],
   "source": [
    "import datetime\n",
    "\n",
    "def yasHesapla(dogumYili):\n",
    "    return datetime.datetime.now().year - dogumYili"
   ]
  },
  {
   "cell_type": "code",
   "execution_count": 11,
   "id": "e73ccc87",
   "metadata": {},
   "outputs": [
    {
     "name": "stdout",
     "output_type": "stream",
     "text": [
      "66\n"
     ]
    }
   ],
   "source": [
    "ageMert=yasHesapla(1956)\n",
    "\n",
    "print(ageMert)"
   ]
  },
  {
   "cell_type": "code",
   "execution_count": 12,
   "id": "1409610f",
   "metadata": {},
   "outputs": [],
   "source": [
    "def ussu(sayi,us):\n",
    "    return sayi**us"
   ]
  },
  {
   "cell_type": "code",
   "execution_count": 14,
   "id": "1b4ca486",
   "metadata": {},
   "outputs": [
    {
     "name": "stdout",
     "output_type": "stream",
     "text": [
      "25\n"
     ]
    }
   ],
   "source": [
    "print(ussu(5,2))"
   ]
  },
  {
   "cell_type": "code",
   "execution_count": 18,
   "id": "62d96af3",
   "metadata": {},
   "outputs": [
    {
     "name": "stdout",
     "output_type": "stream",
     "text": [
      "mert\n",
      "mert\n",
      "mert\n",
      "mert\n",
      "mert\n"
     ]
    }
   ],
   "source": [
    "#Gönderilen kelimeyi belirtilen kez ekrana yazdıran fonksiyo\n",
    "\n",
    "def kelimeTekrar(kelime,kez):\n",
    "    for i in range(kez):\n",
    "        print(str(kelime))\n",
    "\n",
    "\n",
    "kelimeTekrar(\"mert\",5)"
   ]
  },
  {
   "cell_type": "code",
   "execution_count": 47,
   "id": "5328aed3",
   "metadata": {},
   "outputs": [],
   "source": [
    "def arasiAsal(baslangic,bitis):\n",
    "    i=baslangic\n",
    "    asallik=True\n",
    "    while i<bitis:\n",
    "        for j in range(2,i):\n",
    "            \n",
    "            if i%j==0:\n",
    "                asallik=False\n",
    "                break\n",
    "        if asallik==True:\n",
    "            print(i)\n",
    "            \n",
    "        asallik=True\n",
    "        i+=1\n",
    "\n",
    "                \n",
    "\n",
    "        "
   ]
  },
  {
   "cell_type": "code",
   "execution_count": 48,
   "id": "93d28b48",
   "metadata": {},
   "outputs": [
    {
     "name": "stdout",
     "output_type": "stream",
     "text": [
      "5\n",
      "7\n",
      "11\n",
      "13\n",
      "17\n",
      "19\n",
      "23\n"
     ]
    }
   ],
   "source": [
    "arasiAsal(5,25)\n"
   ]
  },
  {
   "cell_type": "code",
   "execution_count": 60,
   "id": "3ed07016",
   "metadata": {},
   "outputs": [],
   "source": [
    "#Girilen degerin tam bölenini veren fonksiyon\n",
    "\n",
    "def tamBolen(deger):\n",
    "    bolenler=[]\n",
    "    for i in range(1,deger):\n",
    "        if int(deger)%i==0:\n",
    "            bolenler.append(int(i))\n",
    "\n",
    "    return bolenler\n",
    "\n"
   ]
  },
  {
   "cell_type": "code",
   "execution_count": 61,
   "id": "0496ccff",
   "metadata": {},
   "outputs": [
    {
     "name": "stdout",
     "output_type": "stream",
     "text": [
      "[1, 2, 3, 4, 6, 12, 113, 226, 339, 452, 678]\n",
      "[1, 3, 1193]\n",
      "[1, 2, 17, 34, 47, 94, 799]\n"
     ]
    }
   ],
   "source": [
    "print(tamBolen(1356))\n",
    "print(tamBolen(3579))\n",
    "print(tamBolen(1598))"
   ]
  },
  {
   "cell_type": "code",
   "execution_count": null,
   "id": "87044975",
   "metadata": {},
   "outputs": [],
   "source": []
  }
 ],
 "metadata": {
  "kernelspec": {
   "display_name": "Python 3",
   "language": "python",
   "name": "python3"
  },
  "language_info": {
   "codemirror_mode": {
    "name": "ipython",
    "version": 3
   },
   "file_extension": ".py",
   "mimetype": "text/x-python",
   "name": "python",
   "nbconvert_exporter": "python",
   "pygments_lexer": "ipython3",
   "version": "3.8.8"
  }
 },
 "nbformat": 4,
 "nbformat_minor": 5
}
