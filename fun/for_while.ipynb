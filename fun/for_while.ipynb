{
 "cells": [
  {
   "cell_type": "code",
   "execution_count": 9,
   "id": "b179aaf1",
   "metadata": {},
   "outputs": [],
   "source": [
    "sayilar =[1,3,5,7,9,12,19,21]"
   ]
  },
  {
   "cell_type": "code",
   "execution_count": 13,
   "id": "2ebb0e48",
   "metadata": {},
   "outputs": [
    {
     "name": "stdout",
     "output_type": "stream",
     "text": [
      "[3, 9, 12, 21]\n"
     ]
    }
   ],
   "source": [
    "#üçün katları\n",
    "uck=[]\n",
    "\n",
    "for i in sayilar:\n",
    "    #print(i)\n",
    "    if i%3==0:\n",
    "        uck.append(i)\n",
    "        \n",
    "print(uck)"
   ]
  },
  {
   "cell_type": "code",
   "execution_count": 18,
   "id": "50dccd62",
   "metadata": {},
   "outputs": [
    {
     "name": "stdout",
     "output_type": "stream",
     "text": [
      "77\n"
     ]
    }
   ],
   "source": [
    "#sayıların toplamı\n",
    "toplam=0\n",
    "\n",
    "for i in sayilar:\n",
    "    toplam+=i\n",
    "    \n",
    "print(toplam)"
   ]
  },
  {
   "cell_type": "code",
   "execution_count": 19,
   "id": "fd71a744",
   "metadata": {},
   "outputs": [
    {
     "name": "stdout",
     "output_type": "stream",
     "text": [
      "1 sayisinin karesi 1'dir\n",
      "3 sayisinin karesi 9'dir\n",
      "5 sayisinin karesi 25'dir\n",
      "7 sayisinin karesi 49'dir\n",
      "9 sayisinin karesi 81'dir\n",
      "19 sayisinin karesi 361'dir\n",
      "21 sayisinin karesi 441'dir\n"
     ]
    }
   ],
   "source": [
    "#tek sayıların karesi\n",
    "\n",
    "for i in sayilar:\n",
    "    if (i%2)!=0:\n",
    "        print(f\"{i} sayisinin karesi {i**2}'dir\")\n"
   ]
  },
  {
   "cell_type": "code",
   "execution_count": 27,
   "id": "f2755172",
   "metadata": {},
   "outputs": [],
   "source": [
    "sehirler=[\"kocaeli\",\"istanbul\",\"ankara\",\"izmir\",\"rize\",\"mersin\",\"izmit\"]"
   ]
  },
  {
   "cell_type": "code",
   "execution_count": 28,
   "id": "4efad722",
   "metadata": {},
   "outputs": [
    {
     "name": "stdout",
     "output_type": "stream",
     "text": [
      "izmir\n",
      "rize\n",
      "izmit\n"
     ]
    }
   ],
   "source": [
    "#en fazla 5 karakterli olan şehirler\n",
    "\n",
    "for i in sehirler:\n",
    "    \n",
    "    if len(i)<=5:\n",
    "        print(i)\n",
    "        \n"
   ]
  },
  {
   "cell_type": "code",
   "execution_count": 30,
   "id": "8e818671",
   "metadata": {},
   "outputs": [],
   "source": [
    "urunler=[\n",
    "    {\"name\":\"samsung s6\",\"price\":\"3000\"},\n",
    "    {\"name\":\"samsung s7\",\"price\":\"4000\"},\n",
    "    {\"name\":\"samsung s8\",\"price\":\"5000\"},\n",
    "    {\"name\":\"samsung s9\",\"price\":\"6000\"},\n",
    "    {\"name\":\"samsung s10\",\"price\":\"7000\"}\n",
    "]"
   ]
  },
  {
   "cell_type": "code",
   "execution_count": 35,
   "id": "a7c76878",
   "metadata": {
    "scrolled": true
   },
   "outputs": [
    {
     "name": "stdout",
     "output_type": "stream",
     "text": [
      "3000\n"
     ]
    }
   ],
   "source": [
    "print(urunler[0][\"price\"])"
   ]
  },
  {
   "cell_type": "code",
   "execution_count": 44,
   "id": "adf4adca",
   "metadata": {
    "scrolled": true
   },
   "outputs": [
    {
     "name": "stdout",
     "output_type": "stream",
     "text": [
      "25000\n"
     ]
    }
   ],
   "source": [
    "uruntoplam=0\n",
    "\n",
    "for i in urunler:\n",
    "    uruntoplam+=int(i[\"price\"])\n",
    "    \n",
    "print(uruntoplam)"
   ]
  },
  {
   "cell_type": "code",
   "execution_count": 47,
   "id": "37a0c280",
   "metadata": {
    "scrolled": true
   },
   "outputs": [
    {
     "name": "stdout",
     "output_type": "stream",
     "text": [
      "1\n",
      "2\n",
      "3\n",
      "4\n",
      "5\n",
      "6\n",
      "7\n",
      "8\n",
      "9\n",
      "10\n"
     ]
    }
   ],
   "source": [
    "#1-100\n",
    "\n",
    "i=1\n",
    "while i<=10:\n",
    "    print(i)\n",
    "    i+=1"
   ]
  },
  {
   "cell_type": "code",
   "execution_count": 48,
   "id": "c31ee125",
   "metadata": {},
   "outputs": [],
   "source": [
    "sayilar =[1,3,5,7,9,12,19,21]"
   ]
  },
  {
   "cell_type": "code",
   "execution_count": 51,
   "id": "d56d2229",
   "metadata": {},
   "outputs": [
    {
     "name": "stdout",
     "output_type": "stream",
     "text": [
      "Baslangık degeri: 7\n",
      "Bitis degeri: 8\n",
      "21\n"
     ]
    }
   ],
   "source": [
    "a=int(input(\"Baslangık degeri: \"))\n",
    "b=int(input(\"Bitis degeri: \"))\n",
    "\n",
    "if a<b and a<8 and b<=8:\n",
    "    for i in sayilar[a:b]:\n",
    "        print(i)\n",
    "        "
   ]
  },
  {
   "cell_type": "code",
   "execution_count": 58,
   "id": "326e5178",
   "metadata": {},
   "outputs": [
    {
     "name": "stdout",
     "output_type": "stream",
     "text": [
      "Deger lutfen guzum: 5\n",
      "Deger lutfen guzum: 6\n",
      "Deger lutfen guzum: 3\n",
      "Deger lutfen guzum: 7\n",
      "Deger lutfen guzum: 2\n",
      "[5, 6, 3, 7, 2]\n",
      "[2, 3, 5, 6, 7]\n"
     ]
    }
   ],
   "source": [
    "degerler=[]\n",
    "\n",
    "for i in range(5):\n",
    "    degerler.append(int(input(\"Deger lutfen guzum: \")))\n",
    "    \n",
    " \n",
    "print(degerler)   \n",
    "degerler.sort()\n",
    "print(degerler)"
   ]
  },
  {
   "cell_type": "code",
   "execution_count": null,
   "id": "7c270937",
   "metadata": {},
   "outputs": [],
   "source": [
    "urundeposu=[]"
   ]
  },
  {
   "cell_type": "code",
   "execution_count": 70,
   "id": "a3f7ae57",
   "metadata": {},
   "outputs": [
    {
     "name": "stdout",
     "output_type": "stream",
     "text": [
      "Kac tane urun gireceksiniz: 1\n",
      "Urun adi nedir? x\n",
      "Urunun fiyati nedir? 1250\n",
      "[{'name': 's3', 'price': 500}]\n",
      "[{'name': 's4', 'price': 700}]\n",
      "[{'name': 'x', 'price': 1250}]\n"
     ]
    }
   ],
   "source": [
    "\n",
    "urunsayisi=int(input(\"Kac tane urun gireceksiniz: \"))\n",
    "\n",
    "for i in range(urunsayisi):\n",
    "    name=input(\"Urun adi nedir? \")\n",
    "    price=int(input(\"Urunun fiyati nedir? \"))\n",
    "    urundeposu.append([{\"name\":name,\"price\":price}])\n",
    "    \n",
    "i=0\n",
    "while i<len(urundeposu):\n",
    "    print(urundeposu[i])\n",
    "    i+=1"
   ]
  },
  {
   "cell_type": "code",
   "execution_count": 71,
   "id": "dbf2d4e8",
   "metadata": {},
   "outputs": [
    {
     "name": "stdout",
     "output_type": "stream",
     "text": [
      "m\n",
      "e\n",
      "r\n",
      "t\n",
      " \n",
      "o\n",
      "ğ\n",
      "u\n",
      "z\n",
      "h\n",
      "n\n",
      "s\n",
      "i\n",
      "l\n",
      "t\n",
      "ü\n",
      "r\n",
      "k\n"
     ]
    }
   ],
   "source": [
    "name =\"mert oğuzhanasiltürk\"\n",
    "\n",
    "for letter in name:\n",
    "    if letter ==\"a\":\n",
    "        continue\n",
    "    print(letter)"
   ]
  },
  {
   "cell_type": "code",
   "execution_count": 73,
   "id": "362161b3",
   "metadata": {},
   "outputs": [
    {
     "name": "stdout",
     "output_type": "stream",
     "text": [
      "index: 0 letter: h\n",
      "index: 1 letter: e\n",
      "index: 2 letter: l\n",
      "index: 3 letter: l\n",
      "index: 4 letter: o\n"
     ]
    }
   ],
   "source": [
    "#enumerate index bilgisini almamızı sağlar\n",
    "\n",
    "greeting = \"hello\"\n",
    "\n",
    "for index, item in enumerate(greeting):\n",
    "    print(f\"index: {index} letter: {item}\")"
   ]
  },
  {
   "cell_type": "code",
   "execution_count": 79,
   "id": "8186ca06",
   "metadata": {},
   "outputs": [
    {
     "name": "stdout",
     "output_type": "stream",
     "text": [
      "[(1, 'a', '100'), (2, 'b', '200'), (3, 'c', '300'), (4, 'd', '400'), (5, 'e', '500')]\n",
      "(1, 'a', '100')\n",
      "(2, 'b', '200')\n",
      "(3, 'c', '300')\n",
      "(4, 'd', '400')\n",
      "(5, 'e', '500')\n",
      "1\n",
      "2\n",
      "3\n",
      "4\n",
      "5\n"
     ]
    }
   ],
   "source": [
    "#zip\n",
    "\n",
    "lst1=[1,2,3,4,5]\n",
    "lst2=[\"a\",\"b\",\"c\",\"d\",\"e\"]\n",
    "lst3=[\"100\",\"200\",\"300\",\"400\",\"500\"]\n",
    "\n",
    "print(list(zip(lst1,lst2,lst3)))\n",
    "\n",
    "for item in zip(lst1,lst2,lst3):\n",
    "    print(item)\n",
    "    \n",
    "for a,b,c in zip(lst1,lst2,lst3):\n",
    "    print(a)\n",
    "    "
   ]
  },
  {
   "cell_type": "code",
   "execution_count": null,
   "id": "88ca52a2",
   "metadata": {},
   "outputs": [],
   "source": []
  }
 ],
 "metadata": {
  "kernelspec": {
   "display_name": "Python 3",
   "language": "python",
   "name": "python3"
  },
  "language_info": {
   "codemirror_mode": {
    "name": "ipython",
    "version": 3
   },
   "file_extension": ".py",
   "mimetype": "text/x-python",
   "name": "python",
   "nbconvert_exporter": "python",
   "pygments_lexer": "ipython3",
   "version": "3.8.8"
  }
 },
 "nbformat": 4,
 "nbformat_minor": 5
}
