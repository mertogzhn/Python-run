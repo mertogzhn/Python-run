{
 "cells": [
  {
   "cell_type": "code",
   "execution_count": 1,
   "id": "7814cc2d",
   "metadata": {},
   "outputs": [
    {
     "data": {
      "text/plain": [
       "'\\n    1-100 arasında rasgele bir sayı üretilecek ve bu sayıyı aşağı yukarı yönlendirmeleriyle kullanıcaya bulduracak\\n'"
      ]
     },
     "execution_count": 1,
     "metadata": {},
     "output_type": "execute_result"
    }
   ],
   "source": [
    "\"\"\"\n",
    "    1-100 arasında rasgele bir sayı üretilecek ve bu sayıyı aşağı yukarı yönlendirmeleriyle kullanıcaya bulduracak\n",
    "\"\"\""
   ]
  },
  {
   "cell_type": "code",
   "execution_count": 2,
   "id": "fa9dd75c",
   "metadata": {},
   "outputs": [],
   "source": [
    "import random"
   ]
  },
  {
   "cell_type": "code",
   "execution_count": 3,
   "id": "840fcd8a",
   "metadata": {},
   "outputs": [
    {
     "name": "stdout",
     "output_type": "stream",
     "text": [
      "13\n"
     ]
    }
   ],
   "source": [
    "rnd=random.randint(1,100)\n",
    "print(rnd)"
   ]
  },
  {
   "cell_type": "code",
   "execution_count": 4,
   "id": "b536cd99",
   "metadata": {},
   "outputs": [
    {
     "name": "stdout",
     "output_type": "stream",
     "text": [
      "Kaç şansınızın olmasını istersiniz? 15\n",
      "Tahmininiz13\n",
      "Tebrikler buldun :) :) bu senin 1 inci denemendi\n"
     ]
    }
   ],
   "source": [
    "sans=int(input(\"Kaç şansınızın olmasını istersiniz? \"))\n",
    "\n",
    "for i in range(sans):\n",
    "    thm=int(input(\"Tahmininiz\"))\n",
    "    \n",
    "    if thm<rnd:\n",
    "        print(f\"Küçük söyledin :( {sans-i-1} şansın kaldı\")\n",
    "        \n",
    "    elif thm>rnd:\n",
    "        print(f\"Büyük söyledin :( {sans-i-1} şansın kaldı\")\n",
    "        \n",
    "    else:\n",
    "        print(f\"Tebrikler buldun :) :) bu senin {i+1} inci denemendi\" )\n",
    "        break\n"
   ]
  }
 ],
 "metadata": {
  "kernelspec": {
   "display_name": "Python 3",
   "language": "python",
   "name": "python3"
  },
  "language_info": {
   "codemirror_mode": {
    "name": "ipython",
    "version": 3
   },
   "file_extension": ".py",
   "mimetype": "text/x-python",
   "name": "python",
   "nbconvert_exporter": "python",
   "pygments_lexer": "ipython3",
   "version": "3.8.8"
  }
 },
 "nbformat": 4,
 "nbformat_minor": 5
}
