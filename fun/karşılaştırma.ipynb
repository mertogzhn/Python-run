{
 "cells": [
  {
   "cell_type": "code",
   "execution_count": 10,
   "id": "2b9fd2c1",
   "metadata": {},
   "outputs": [
    {
     "name": "stdout",
     "output_type": "stream",
     "text": [
      "sayı1 ne olsun: 98\n",
      "sayı2 ne olsun: 45\n"
     ]
    }
   ],
   "source": [
    "x=int(input(\"sayı1 ne olsun: \"  ))\n",
    "y=int(input(\"sayı2 ne olsun: \"  ))"
   ]
  },
  {
   "cell_type": "code",
   "execution_count": 18,
   "id": "419a1ed5",
   "metadata": {},
   "outputs": [
    {
     "name": "stdout",
     "output_type": "stream",
     "text": [
      "[98, 45]\n",
      "[45, 98]\n",
      "Bütük olan sayı 45\n"
     ]
    }
   ],
   "source": [
    "sıra=[x,y]\n",
    "print(sıra)\n",
    "sıra.sort()\n",
    "print(sıra)\n",
    "print(f\"Bütük olan sayı {sıra[0]}\")"
   ]
  },
  {
   "cell_type": "code",
   "execution_count": 20,
   "id": "6b9d1973",
   "metadata": {},
   "outputs": [],
   "source": [
    "sıra.insert(-1,5)"
   ]
  },
  {
   "cell_type": "code",
   "execution_count": 21,
   "id": "8f650627",
   "metadata": {},
   "outputs": [
    {
     "data": {
      "text/plain": [
       "[45, 5, 98]"
      ]
     },
     "execution_count": 21,
     "metadata": {},
     "output_type": "execute_result"
    }
   ],
   "source": [
    "sıra"
   ]
  },
  {
   "cell_type": "code",
   "execution_count": 27,
   "id": "e7c52f4a",
   "metadata": {},
   "outputs": [
    {
     "name": "stdout",
     "output_type": "stream",
     "text": [
      "Gir56\n"
     ]
    }
   ],
   "source": [
    "a = int(input(\"Gir\"))"
   ]
  },
  {
   "cell_type": "code",
   "execution_count": 28,
   "id": "0fac8ff1",
   "metadata": {},
   "outputs": [
    {
     "name": "stdout",
     "output_type": "stream",
     "text": [
      "True\n"
     ]
    }
   ],
   "source": [
    "print(0<a<100)"
   ]
  },
  {
   "cell_type": "code",
   "execution_count": 29,
   "id": "8d1fc0d1",
   "metadata": {},
   "outputs": [
    {
     "name": "stdout",
     "output_type": "stream",
     "text": [
      "True\n"
     ]
    }
   ],
   "source": [
    "print((0<a)and a%2==0)"
   ]
  },
  {
   "cell_type": "code",
   "execution_count": 32,
   "id": "84a73ee8",
   "metadata": {},
   "outputs": [
    {
     "name": "stdout",
     "output_type": "stream",
     "text": [
      "e posta girinizmert@appyazilim\n",
      "Sifre giriniz123\n",
      "True\n"
     ]
    }
   ],
   "source": [
    "email=\"mert@appyazilim\"\n",
    "sifre=\"123\"\n",
    "\n",
    "e=input(\"e posta giriniz\")\n",
    "s=input(\"Sifre giriniz\")\n",
    "\n",
    "print(e==email and s==sifre)"
   ]
  },
  {
   "cell_type": "code",
   "execution_count": 35,
   "id": "ccf8676d",
   "metadata": {},
   "outputs": [
    {
     "name": "stdout",
     "output_type": "stream",
     "text": [
      "True\n",
      "True\n",
      "True\n",
      "False\n"
     ]
    }
   ],
   "source": [
    "#Identity Operator : is\n",
    "\n",
    "x=y=[1,2,3]\n",
    "\n",
    "z=[1,2,3]\n",
    "\n",
    "print(x==y)\n",
    "print(x==z)\n",
    "\n",
    "print(x is y)\n",
    "print(x is z)\n"
   ]
  },
  {
   "cell_type": "code",
   "execution_count": 39,
   "id": "addd5638",
   "metadata": {},
   "outputs": [
    {
     "name": "stdout",
     "output_type": "stream",
     "text": [
      "True\n",
      "True\n",
      "False\n"
     ]
    }
   ],
   "source": [
    "#Membership Operator: in\n",
    "\n",
    "x=[\"apple\",\"banana\"]\n",
    "\n",
    "print(\"banana\" in x)\n",
    "\n",
    "name=\"Çınar\"\n",
    "\n",
    "print(\"a\" in name)\n",
    "print(\"a\" not in name)"
   ]
  },
  {
   "cell_type": "code",
   "execution_count": null,
   "id": "de5f6c9e",
   "metadata": {},
   "outputs": [],
   "source": []
  }
 ],
 "metadata": {
  "kernelspec": {
   "display_name": "Python 3",
   "language": "python",
   "name": "python3"
  },
  "language_info": {
   "codemirror_mode": {
    "name": "ipython",
    "version": 3
   },
   "file_extension": ".py",
   "mimetype": "text/x-python",
   "name": "python",
   "nbconvert_exporter": "python",
   "pygments_lexer": "ipython3",
   "version": "3.8.8"
  }
 },
 "nbformat": 4,
 "nbformat_minor": 5
}
