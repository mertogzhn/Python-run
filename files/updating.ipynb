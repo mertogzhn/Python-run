{
 "cells": [
  {
   "cell_type": "code",
   "execution_count": 4,
   "metadata": {},
   "outputs": [
    {
     "name": "stdout",
     "output_type": "stream",
     "text": [
      "mertOğuzhanasiltürk mertOğuzhanasiltürk DavutOğuzhanasiltürk\n",
      "mertOğuzhanasiltürk mertOğuzhanasiltürk \n",
      "\u0000\u0000\u0000\u0000\u0000\u0000\u0000\u0000\u0000\u0000\u0000\u0000\u0000\u0000\u0000\u0000\u0000\u0000\u0000\u0000\u0000\u0000\u0000\u0000\u0000\u0000\u0000\u0000\u0000\u0000\u0000\u0000\u0000\u0000\u0000\u0000\u0000\u0000\u0000\u0000\u0000\u0000\u0000\u0000\u0000\u0000\u0000\u0000\u0000\u0000\u0000\u0000\u0000\u0000\u0000\u0000\u0000\u0000\u0000\u0000\u0000\u0000\u0000\u0000\u0000\u0000\u0000\u0000\u0000\u0000\u0000\u0000\u0000\u0000\u0000\u0000\u0000\u0000\u0000\u0000\u0000\u0000\u0000\u0000\u0000\u0000\u0000\u0000\u0000\u0000\u0000\u0000\u0000\u0000\u0000\u0000\u0000\u0000\u0000\u0000\u0000\u0000\u0000\u0000\u0000\u0000DENEME\n"
     ]
    }
   ],
   "source": [
    "\n",
    "\n",
    "with open(\"newfile.txt\",\"r+\", encoding=\"utf-8\") as file:\n",
    "    file.seek(20)\n",
    "    file.write(\"DENEME\")\n",
    "\n",
    "with open(\"newfile.txt\",\"r+\", encoding=\"utf-8\") as file:\n",
    "    print(file.read())"
   ]
  },
  {
   "cell_type": "code",
   "execution_count": 6,
   "metadata": {},
   "outputs": [],
   "source": [
    "#sayfa sonuna ekleme\n",
    "\n",
    "with open(\"newfile.txt\",\"a\",encoding=\"utf-8\") as file:\n",
    "    file.write(\"ebru \\n\")"
   ]
  },
  {
   "cell_type": "code",
   "execution_count": 13,
   "metadata": {},
   "outputs": [
    {
     "name": "stdout",
     "output_type": "stream",
     "text": [
      "mertOğuzhanasiltürk \n",
      "ibo \n",
      "DavutOğuzhanasiltürk \n",
      "ebruOğuzhanasiltürk \n",
      "\n"
     ]
    }
   ],
   "source": [
    "#Sayfa ortasında güncelleme\n",
    "\n",
    "with open(\"newfile.txt\",\"r+\",encoding=\"utf-8\") as file:\n",
    "    liste= file.readlines()\n",
    "    liste.insert(1,\"ibo \\n\")\n",
    "    file.seek(0)\n",
    "    for i in liste:\n",
    "        file.write(i)\n",
    "    file.close()\n",
    "\n",
    "with open(\"newfile.txt\",\"r\",encoding=\"utf-8\") as file:\n",
    "    print(file.read())"
   ]
  },
  {
   "cell_type": "code",
   "execution_count": null,
   "metadata": {},
   "outputs": [],
   "source": []
  }
 ],
 "metadata": {
  "interpreter": {
   "hash": "cef46d8763824d289992c8860a3089a1bef4a42fe2d41953bcdbf60b30f3f62d"
  },
  "kernelspec": {
   "display_name": "Python 3.8.10 64-bit (windows store)",
   "language": "python",
   "name": "python3"
  },
  "language_info": {
   "codemirror_mode": {
    "name": "ipython",
    "version": 3
   },
   "file_extension": ".py",
   "mimetype": "text/x-python",
   "name": "python",
   "nbconvert_exporter": "python",
   "pygments_lexer": "ipython3",
   "version": "3.8.10"
  },
  "orig_nbformat": 4
 },
 "nbformat": 4,
 "nbformat_minor": 2
}
