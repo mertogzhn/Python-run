{
 "cells": [
  {
   "cell_type": "code",
   "execution_count": 7,
   "metadata": {},
   "outputs": [
    {
     "name": "stdout",
     "output_type": "stream",
     "text": [
      "mertOğuzhanasiltürkmertOğuzhanasiltürkmertOğuzhanasiltürk DavutOğuzhanasiltürk mertOğuzhanasiltürk \n",
      "mertOğuzhanasiltürk mertOğuzhanasiltürk \n",
      "\n"
     ]
    }
   ],
   "source": [
    "file =open(\"newfile.txt\",\"r\",encoding=\"utf-8\")\n",
    "\n",
    "content=file.read()\n",
    "print(content) \n",
    "\n",
    "file.close()"
   ]
  },
  {
   "cell_type": "code",
   "execution_count": 8,
   "metadata": {},
   "outputs": [],
   "source": [
    "#file.read(5)  içeriğin ilk beş karakteri yazılır\n"
   ]
  },
  {
   "cell_type": "code",
   "execution_count": 15,
   "metadata": {},
   "outputs": [
    {
     "name": "stdout",
     "output_type": "stream",
     "text": [
      "mertOğuzhanasiltürkmertOğuzhanasiltürkmertOğuzhanasiltürk DavutOğuzhanasiltürk mertOğuzhanasiltürk \n",
      "  falanmertOğuzhanasiltürk mertOğuzhanasiltürk \n",
      "\n",
      "\n"
     ]
    }
   ],
   "source": [
    "#readline() fonksiyonu her seferinde bir satır okur\n",
    "file =open(\"newfile.txt\",\"r\",encoding=\"utf-8\")\n",
    "print(file.readline(),end=\"  falan\")\n",
    "print(file.readline())\n",
    "print(file.readline())\n",
    "file.close()"
   ]
  },
  {
   "cell_type": "code",
   "execution_count": 17,
   "metadata": {},
   "outputs": [
    {
     "name": "stdout",
     "output_type": "stream",
     "text": [
      "['mertOğuzhanasiltürkmertOğuzhanasiltürkmertOğuzhanasiltürk DavutOğuzhanasiltürk mertOğuzhanasiltürk \\n', 'mertOğuzhanasiltürk mertOğuzhanasiltürk \\n']\n",
      "mertOğuzhanasiltürk mertOğuzhanasiltürk \n",
      "\n"
     ]
    }
   ],
   "source": [
    "#readlines() \n",
    "file =open(\"newfile.txt\",\"r\",encoding=\"utf-8\")\n",
    "liste=file.readlines()\n",
    "print(liste)\n",
    "print(liste[1])\n",
    "file.close()"
   ]
  },
  {
   "cell_type": "code",
   "execution_count": null,
   "metadata": {},
   "outputs": [],
   "source": []
  }
 ],
 "metadata": {
  "interpreter": {
   "hash": "cef46d8763824d289992c8860a3089a1bef4a42fe2d41953bcdbf60b30f3f62d"
  },
  "kernelspec": {
   "display_name": "Python 3.8.10 64-bit (windows store)",
   "language": "python",
   "name": "python3"
  },
  "language_info": {
   "codemirror_mode": {
    "name": "ipython",
    "version": 3
   },
   "file_extension": ".py",
   "mimetype": "text/x-python",
   "name": "python",
   "nbconvert_exporter": "python",
   "pygments_lexer": "ipython3",
   "version": "3.8.10"
  },
  "orig_nbformat": 4
 },
 "nbformat": 4,
 "nbformat_minor": 2
}
