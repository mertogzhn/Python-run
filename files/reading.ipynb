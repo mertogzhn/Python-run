{
 "cells": [
  {
   "cell_type": "code",
   "execution_count": 7,
   "metadata": {},
   "outputs": [
    {
     "name": "stdout",
     "output_type": "stream",
     "text": [
      "mertOğuzhanasiltürkmertOğuzhanasiltürkmertOğuzhanasiltürk DavutOğuzhanasiltürk mertOğuzhanasiltürk \n",
      "mertOğuzhanasiltürk mertOğuzhanasiltürk \n",
      "\n"
     ]
    }
   ],
   "source": [
    "file =open(\"newfile.txt\",\"r\",encoding=\"utf-8\")\n",
    "\n",
    "content=file.read()\n",
    "print(content) \n",
    "\n",
    "file.close()"
   ]
  },
  {
   "cell_type": "code",
   "execution_count": 8,
   "metadata": {},
   "outputs": [],
   "source": [
    "#file.read(5)  içeriğin ilk beş karakteri yazılır\n"
   ]
  },
  {
   "cell_type": "code",
   "execution_count": 15,
   "metadata": {},
   "outputs": [
    {
     "name": "stdout",
     "output_type": "stream",
     "text": [
      "mertOğuzhanasiltürkmertOğuzhanasiltürkmertOğuzhanasiltürk DavutOğuzhanasiltürk mertOğuzhanasiltürk \n",
      "  falanmertOğuzhanasiltürk mertOğuzhanasiltürk \n",
      "\n",
      "\n"
     ]
    }
   ],
   "source": [
    "#readline() fonksiyonu her seferinde bir satır okur\n",
    "file =open(\"newfile.txt\",\"r\",encoding=\"utf-8\")\n",
    "print(file.readline(),end=\"  falan\")\n",
    "print(file.readline())\n",
    "print(file.readline())\n",
    "file.close()"
   ]
  },
  {
   "cell_type": "code",
   "execution_count": 17,
   "metadata": {},
   "outputs": [
    {
     "name": "stdout",
     "output_type": "stream",
     "text": [
      "['mertOğuzhanasiltürkmertOğuzhanasiltürkmertOğuzhanasiltürk DavutOğuzhanasiltürk mertOğuzhanasiltürk \\n', 'mertOğuzhanasiltürk mertOğuzhanasiltürk \\n']\n",
      "mertOğuzhanasiltürk mertOğuzhanasiltürk \n",
      "\n"
     ]
    }
   ],
   "source": [
    "#readlines() \n",
    "file =open(\"newfile.txt\",\"r\",encoding=\"utf-8\")\n",
    "liste=file.readlines()\n",
    "print(liste)\n",
    "print(liste[1])\n",
    "file.close()"
   ]
  },
  {
   "cell_type": "code",
   "execution_count": 2,
   "metadata": {},
   "outputs": [
    {
     "name": "stdout",
     "output_type": "stream",
     "text": [
      "1839'da Kocacık'ta doğduğu sanılan[12] babası Ali Rıza Efendi, aslen Manastır'a bağlı Debre-i Bâlâ'dandır.[13] Falih Rıfkı Atay, Vamık Volkan, Norman Itzkowitz, Müjgân Cunbur, Numan Kartal ve Hasan İzzettin Dinamo'ya göre, babasının ailesi 14-15. yüzyılda Anadolu'dan bölgeye göç etmiş olan Kocacık Yörüklerindendir.[12][13][14][15] Bazı yabancı kaynaklara göre ise babasının ailesinde Arnavut veya Slav kökenli Müslümanlar olabilir.[16][17][18] Ali Rıza Bey öncelikle dini vakıfları denetleyen bir memur olarak çalışmış, 93 Harbi öncesinde 1876-77 yıllarında yerel birliklerde gönüllü teğmen olarak görev yapmıştır.[16][19] Zübeyde Hanım ile evlendikten sonra Selanik'te gümrük memurluğu ve kereste ticaretiyle meşgul oldu.[20][21]\n",
      "\n",
      "Annesi Zübeyde Hanım, 1857 yılında Selanik'in batısındaki Langaza'da çiftçi bir ailede doğmuştur. Annesinin kökeni ise Karaman'dan Rumeli'ye gelen Türkmenlerdendir.[22]\n",
      "\n",
      "Ali Rıza Bey ile Zübeyde Hanım 1871 yılında evlendi ve Ali Rıza Bey'in babasına ait olan Yenikapı, Selanik'teki eve yerleştiler.[23][24][25] Atatürk, bu çiftin çocuğu olarak rumî 1296 (miladî 1880-1881) yılında Selanik'te doğmuştur. Samsun'a çıktığı 19 Mayıs tarihini doğum günü kabul etmiştir.[e][26] Fatma, Ömer, Ahmet, Naciye ve Makbule adlı beş kardeşinin ilk dördü küçük yaşta ölmüştür.[27][28]\n",
      "\n",
      "Öğrenim çağına gelen Mustafa'nın hangi okula gideceği konusunda annesi ile babası arasında anlaşmazlık çıkmıştı. Annesi Mustafa'nın Hafız Mehmet Efendi'nin mahalle mektebine gitmesini istiyor, babası ise o dönemki yeni yöntemlerle eğitim yapan seküler[19] Mektebi Şemsi İbtidai'nde (Şemsi Efendi Mektebi) okumasını istiyordu. En sonunda önce mahalle mektebine başlayan Mustafa, birkaç gün sonra Şemsi Efendi Mektebine geçti.[29] Atatürk, okul seçimindeki bu kararı için hayatı boyunca babasına minnettarlık duymuştur.[19] 1888'de babasını kaybetti.[30] Bir süre Rapla Çiftliği'nde annesinin üvey kardeşi[19] Hüseyin'in yanında kalıp hafif çiftlik işleriyle uğraştıktan sonra, eğitimsiz kalacağından endişe eden annesinin isteğiyle Selanik'e döndü, halasının yanına yerleşti ve okulunu bitirdi.[31][32] Bu arada Zübeyde Hanım, Selanik'te gümrük memuru olan Ragıp Bey ile evlendi.[33]\n",
      "\n",
      "Şimdi müze olan Koca Kasım Paşa Mahallesi Islahhane Caddesi'ndeki ev, 1870'te Rodoslu müderris Hacı Mehmed Vakfı tarafından yaptırılmış ve 1878'de yeni evlenen Ali Rıza Bey tarafından kiralanmıştır ancak o öldükten sonra Mustafa ve ailesi bu evden yanındaki 2 katlı, 3 odalı ve mutfaklı daha küçük eve taşınmışlardır.[34] Mustafa, seküler bir okul olan ve bürokrat yetiştiren Selânik Mülkiye Rüştiyesine kaydoldu.[19] Ancak muhitindeki askerî öğrencilerin üniformalarından da etkilenerek annesinin karşı çıkmasına rağmen 1893'te Selânik Askerî Rüştiyesine girdi.[35] Bu okulda matematik öğretmeni Yüzbaşı Üsküplü Mustafa Sabri Bey, ona anlamı \"mükemmellik, olgunluk\" olan Kemal ismini verdi.[36] Fransızca öğretmeni Yüzbaşı Nakiyüddin Bey (Yücekök), özgürlük düşüncesiyle genç Mustafa Kemal'in düşünce yapısını etkiledi. 1895'te sınıf dördüncüsü olarak mezun oldu.[37] Mustafa Kemal Kuleli Askerî İdadisine girmeyi düşündüyse de ona ağabeylik yapan Selânikli subay Hasan Bey'in Manastır'daki eğitimin daha iyi olduğu yönündeki tavsiyesine uyarak 1896'da Manastır Askerî İdadisine kaydoldu.[37]\n",
      "\n",
      "1896-1899 arasında eğitim gördüğü Manastır Askerî İdadisinde tarih öğretmeni Kolağası Mehmet Tevfik Bey (Bilge), Mustafa Kemal'in tarihe olan merakını güçlendirdi.[38] Okulda Fransızca öğrendi, Selanik'te geçirdiği yaz tatillerinde de Fransızca kurslarına devam etti.[39] 19 Nisan 1897'de başlayan Osmanlı-Yunan Savaşı'na gönüllü olarak katılmak istediyse de hem idadi öğrencisi olduğu için hem de 16 yaşında olduğundan dolayı cepheye gidememiştir.[40] Kasım 1898'de Manastır Askeri İdadisinden sınıf ikincisi olarak mezun oldu.[41][42] 13 Mart 1899'da[43][44] İstanbul'da Mekteb-i Harbiye-i Şahaneye girdi. Harbiye'ye girdikten iki ay sonra sınıf çavuşu oldu.[45] Birinci sınıfı 27., ikinci sınıfı 11., üçüncü sınıfı 549 kişi arasından piyade sınıf sekizincisi (1317 - P.8) olarak bitirdi ve 10 Şubat 1902'de piyade mülazım (bugünkü ismiyle Teğmen) rütbesiyle kurmay subayların yetiştirildiği Harp Akademisine girmeye hak kazandı.[42][46]\n",
      "\n",
      "Mekteb-i Harbiye-i Şahane'nin akabinde Erkan-ı Harbiye Mektebine (Harp Akademisi) devam etti ve kurmay subaylık eğitimi aldı. Harp Akademisi'ndeyken arkadaşları ile birlikte hükûmetin yönetimi ve politikaları konusunda fark ettikleri eksiklik ve hataları açıklamak için elle yazılmış bir gazete çıkardılar. Okul yönetimi tarafından takip edilseler de ceza almadılar ve okul bitene kadar gazete çalışmalarına devam ettiler.[46] 11 Ocak 1905'te kurmay yüzbaşı rütbesiyle mezun oldu.[47]\n"
     ]
    }
   ],
   "source": [
    "with open(\"ataturk.txt\",\"r\",encoding=\"utf-8\") as file:\n",
    "    icerik=file.read()\n",
    "    print(icerik)"
   ]
  },
  {
   "cell_type": "code",
   "execution_count": null,
   "metadata": {},
   "outputs": [],
   "source": []
  }
 ],
 "metadata": {
  "interpreter": {
   "hash": "cef46d8763824d289992c8860a3089a1bef4a42fe2d41953bcdbf60b30f3f62d"
  },
  "kernelspec": {
   "display_name": "Python 3.8.10 64-bit (windows store)",
   "language": "python",
   "name": "python3"
  },
  "language_info": {
   "codemirror_mode": {
    "name": "ipython",
    "version": 3
   },
   "file_extension": ".py",
   "mimetype": "text/x-python",
   "name": "python",
   "nbconvert_exporter": "python",
   "pygments_lexer": "ipython3",
   "version": "3.8.10"
  },
  "orig_nbformat": 4
 },
 "nbformat": 4,
 "nbformat_minor": 2
}
