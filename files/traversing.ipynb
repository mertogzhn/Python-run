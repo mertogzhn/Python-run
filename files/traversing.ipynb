{
 "cells": [
  {
   "cell_type": "code",
   "execution_count": 6,
   "metadata": {},
   "outputs": [
    {
     "name": "stdout",
     "output_type": "stream",
     "text": [
      "mertOğuzhanasiltürkmertOğuzhanasiltürkmertOğuzhanasiltürk DavutOğuzhanasiltürk mertOğuzhanasiltürk \n",
      "mertOğuzhanasiltürk mertOğuzhanasiltürk \n",
      "\n",
      "0\n",
      "mertOğuzhanasiltürkmertOğuzhanasiltürkmertOğuzhanasiltürk DavutOğuzhanasiltürk mertOğuzhanasiltürk \n",
      "mertOğuzhanasiltürk mertOğuzhanasiltürk \n",
      "\n"
     ]
    }
   ],
   "source": [
    "with open(\"newfile.txt\",\"r\",encoding=\"utf-8\") as file:\n",
    "    icerik=file.read()\n",
    "    print(icerik)\n",
    "    file.seek(0)\n",
    "    print(file.tell())# tell fonksiyonu kürsörün nerede olduğunu söyler\n",
    "    icerik2=file.read()\n",
    "    print(icerik2)\n",
    "\n",
    "\n"
   ]
  },
  {
   "cell_type": "code",
   "execution_count": null,
   "metadata": {},
   "outputs": [],
   "source": []
  }
 ],
 "metadata": {
  "interpreter": {
   "hash": "cef46d8763824d289992c8860a3089a1bef4a42fe2d41953bcdbf60b30f3f62d"
  },
  "kernelspec": {
   "display_name": "Python 3.8.10 64-bit (windows store)",
   "language": "python",
   "name": "python3"
  },
  "language_info": {
   "codemirror_mode": {
    "name": "ipython",
    "version": 3
   },
   "file_extension": ".py",
   "mimetype": "text/x-python",
   "name": "python",
   "nbconvert_exporter": "python",
   "pygments_lexer": "ipython3",
   "version": "3.8.10"
  },
  "orig_nbformat": 4
 },
 "nbformat": 4,
 "nbformat_minor": 2
}
