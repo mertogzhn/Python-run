{
 "cells": [
  {
   "cell_type": "markdown",
   "metadata": {},
   "source": [
    "Dosya açmak ve oluşturmak için open() fonksiyonu kullanılır\n",
    "Kullanımı: open(dosya_adi,dosya_erişme_modu)\n",
    "dosya_erişme_modu => dosyayı hangi amaçla açtığını belirler\n",
    "\n",
    "\n",
    "\"w\" write. Dosyayı konumda oluşturur.\n",
    "\"a\" append - ekleme. Dosya konumda yoksa oluşturulur.\n",
    "\"x\" create. Dosya zaten varsa hata verir\n",
    "\"r\" read. varsayılandır. dosya konumda yoksa hata verir"
   ]
  },
  {
   "cell_type": "code",
   "execution_count": 5,
   "metadata": {},
   "outputs": [
    {
     "name": "stdout",
     "output_type": "stream",
     "text": [
      "<_io.TextIOWrapper name='newfile.txt' mode='w' encoding='cp1252'>\n"
     ]
    }
   ],
   "source": [
    "#\"w\" write. Dosyayı konumda oluşturur.\n",
    "# ***mevcutta bir dosya varsa siler dosyaya yendiden yazar\n",
    "file = open(\"newfile.txt\",\"w\")\n",
    "file.close() #dosya kapatır. \n",
    "print(file)"
   ]
  },
  {
   "cell_type": "code",
   "execution_count": 8,
   "metadata": {},
   "outputs": [
    {
     "name": "stdout",
     "output_type": "stream",
     "text": [
      "<_io.TextIOWrapper name='C:/Users/merto/Desktop/newfile.txt' mode='w' encoding='cp1252'>\n"
     ]
    }
   ],
   "source": [
    "#masaüstüne dosya açıldı\n",
    "file2 = open(\"C:/Users/merto/Desktop/newfile.txt\",\"w\")\n",
    "file.close()\n",
    "print(file2)"
   ]
  },
  {
   "cell_type": "code",
   "execution_count": 12,
   "metadata": {},
   "outputs": [],
   "source": [
    "file = open(\"newfile.txt\",\"w\",encoding=\"utf-8\") #dosyayı yeniden açar, içinde bir bilgi varsa önce siler\n",
    "#file.write(\"mertOğuzhanasiltürk\")\n",
    "file.close()"
   ]
  },
  {
   "cell_type": "code",
   "execution_count": 19,
   "metadata": {},
   "outputs": [],
   "source": [
    "#\"a\" append - ekleme. Dosya konumda yoksa oluşturulur.\n",
    "file = open(\"newfile.txt\",\"a\",encoding=\"utf-8\")\n",
    "#file.write(\"\\nmert \")\n",
    "file.write(\"mert \\n\")\n",
    "file.close()"
   ]
  },
  {
   "cell_type": "code",
   "execution_count": 20,
   "metadata": {},
   "outputs": [],
   "source": [
    "#\"x\" create. Dosya zaten varsa hata verir\n",
    "file3 = open(\"newfile2.txt\",\"x\",encoding=\"utf-8\")"
   ]
  },
  {
   "cell_type": "code",
   "execution_count": null,
   "metadata": {},
   "outputs": [],
   "source": []
  }
 ],
 "metadata": {
  "interpreter": {
   "hash": "cef46d8763824d289992c8860a3089a1bef4a42fe2d41953bcdbf60b30f3f62d"
  },
  "kernelspec": {
   "display_name": "Python 3.8.10 64-bit (windows store)",
   "language": "python",
   "name": "python3"
  },
  "language_info": {
   "codemirror_mode": {
    "name": "ipython",
    "version": 3
   },
   "file_extension": ".py",
   "mimetype": "text/x-python",
   "name": "python",
   "nbconvert_exporter": "python",
   "pygments_lexer": "ipython3",
   "version": "3.8.10"
  },
  "orig_nbformat": 4
 },
 "nbformat": 4,
 "nbformat_minor": 2
}
