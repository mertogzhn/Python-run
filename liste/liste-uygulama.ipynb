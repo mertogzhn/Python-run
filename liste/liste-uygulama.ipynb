{
 "cells": [
  {
   "cell_type": "code",
   "execution_count": 6,
   "id": "b79211af",
   "metadata": {},
   "outputs": [],
   "source": [
    "names=[\"Ali\",\"Yağmur\",\"Hakan\",\"Deniz\"]\n",
    "years=[1998,2000,1998,1987]"
   ]
  },
  {
   "cell_type": "code",
   "execution_count": 7,
   "id": "dd96077d",
   "metadata": {},
   "outputs": [
    {
     "name": "stdout",
     "output_type": "stream",
     "text": [
      "['Ali', 'Yağmur', 'Hakan', 'Deniz', 'Cenk']\n"
     ]
    }
   ],
   "source": [
    "names.append(\"Cenk\")\n",
    "print(names)"
   ]
  },
  {
   "cell_type": "code",
   "execution_count": 8,
   "id": "214bfc1b",
   "metadata": {},
   "outputs": [
    {
     "data": {
      "text/plain": [
       "['Sena', 'Ali', 'Yağmur', 'Hakan', 'Deniz', 'Cenk']"
      ]
     },
     "execution_count": 8,
     "metadata": {},
     "output_type": "execute_result"
    }
   ],
   "source": [
    "names.insert(0,\"Sena\")\n",
    "names"
   ]
  },
  {
   "cell_type": "code",
   "execution_count": 9,
   "id": "279375b3",
   "metadata": {},
   "outputs": [
    {
     "data": {
      "text/plain": [
       "['Sena', 'Ali', 'Yağmur', 'Hakan', 'Cenk']"
      ]
     },
     "execution_count": 9,
     "metadata": {},
     "output_type": "execute_result"
    }
   ],
   "source": [
    "#names.pop(4)\n",
    "names.remove(\"Deniz\")\n",
    "names"
   ]
  },
  {
   "cell_type": "code",
   "execution_count": 10,
   "id": "419b08ad",
   "metadata": {},
   "outputs": [
    {
     "data": {
      "text/plain": [
       "['Cenk', 'Hakan', 'Yağmur', 'Ali', 'Sena']"
      ]
     },
     "execution_count": 10,
     "metadata": {},
     "output_type": "execute_result"
    }
   ],
   "source": [
    "names.reverse()\n",
    "names"
   ]
  },
  {
   "cell_type": "code",
   "execution_count": 12,
   "id": "dc285452",
   "metadata": {},
   "outputs": [
    {
     "data": {
      "text/plain": [
       "['Ali', 'Cenk', 'Hakan', 'Sena', 'Yağmur']"
      ]
     },
     "execution_count": 12,
     "metadata": {},
     "output_type": "execute_result"
    }
   ],
   "source": [
    "names.sort()\n",
    "names"
   ]
  },
  {
   "cell_type": "code",
   "execution_count": 14,
   "id": "b364ce5e",
   "metadata": {},
   "outputs": [
    {
     "data": {
      "text/plain": [
       "[1987, 1998, 1998, 2000]"
      ]
     },
     "execution_count": 14,
     "metadata": {},
     "output_type": "execute_result"
    }
   ],
   "source": [
    "years.sort()\n",
    "years"
   ]
  },
  {
   "cell_type": "markdown",
   "id": "4efcdbdc",
   "metadata": {},
   "source": [
    "print(min(years))\n",
    "print(max(years))"
   ]
  },
  {
   "cell_type": "code",
   "execution_count": 15,
   "id": "d2c5fc7a",
   "metadata": {},
   "outputs": [
    {
     "name": "stdout",
     "output_type": "stream",
     "text": [
      "1987\n",
      "2000\n"
     ]
    }
   ],
   "source": [
    "print(min(years))\n",
    "print(max(years))"
   ]
  },
  {
   "cell_type": "code",
   "execution_count": 17,
   "id": "544151e9",
   "metadata": {},
   "outputs": [
    {
     "data": {
      "text/plain": [
       "True"
      ]
     },
     "execution_count": 17,
     "metadata": {},
     "output_type": "execute_result"
    }
   ],
   "source": [
    "a= \"Ali\" in names\n",
    "a"
   ]
  },
  {
   "cell_type": "code",
   "execution_count": 18,
   "id": "503d055b",
   "metadata": {},
   "outputs": [
    {
     "name": "stdout",
     "output_type": "stream",
     "text": [
      "2\n"
     ]
    }
   ],
   "source": [
    "print(years.count(1998))"
   ]
  },
  {
   "cell_type": "code",
   "execution_count": 21,
   "id": "9c8aa382",
   "metadata": {},
   "outputs": [
    {
     "ename": "SyntaxError",
     "evalue": "invalid syntax (<ipython-input-21-5ed8c66417cb>, line 1)",
     "output_type": "error",
     "traceback": [
      "\u001b[1;36m  File \u001b[1;32m\"<ipython-input-21-5ed8c66417cb>\"\u001b[1;36m, line \u001b[1;32m1\u001b[0m\n\u001b[1;33m    names.pop(0:4)\u001b[0m\n\u001b[1;37m               ^\u001b[0m\n\u001b[1;31mSyntaxError\u001b[0m\u001b[1;31m:\u001b[0m invalid syntax\n"
     ]
    }
   ],
   "source": [
    "names.pop(0:4)"
   ]
  },
  {
   "cell_type": "code",
   "execution_count": 22,
   "id": "93295927",
   "metadata": {},
   "outputs": [],
   "source": [
    "names.clear()"
   ]
  },
  {
   "cell_type": "code",
   "execution_count": 23,
   "id": "4976c1ac",
   "metadata": {},
   "outputs": [
    {
     "data": {
      "text/plain": [
       "[]"
      ]
     },
     "execution_count": 23,
     "metadata": {},
     "output_type": "execute_result"
    }
   ],
   "source": [
    "names"
   ]
  },
  {
   "cell_type": "code",
   "execution_count": 34,
   "id": "fa2ea42b",
   "metadata": {},
   "outputs": [
    {
     "name": "stdout",
     "output_type": "stream",
     "text": [
      "marka giriniz :mert\n",
      "marka giriniz :bilge\n",
      "marka giriniz :karcak\n",
      "['mert', 'bilge', 'karcak']\n"
     ]
    }
   ],
   "source": [
    "marka=[]\n",
    "for i in range(3):\n",
    "    \n",
    "    marka.append(input(\"marka giriniz :\"))\n",
    "    \n",
    "print(marka)"
   ]
  },
  {
   "cell_type": "markdown",
   "id": "f3d8a2e3",
   "metadata": {},
   "source": [
    "str=\"Chevrolet,Dacia\"\n",
    "result=str.split(\",\")"
   ]
  },
  {
   "cell_type": "code",
   "execution_count": 37,
   "id": "a3f91836",
   "metadata": {},
   "outputs": [
    {
     "name": "stdout",
     "output_type": "stream",
     "text": [
      "['Chevrolet', 'Dacia']\n"
     ]
    }
   ],
   "source": [
    "#split(\",\")  virgünn gördükçe ayırırmetodu ayırır\n",
    "\n",
    "str=\"Chevrolet,Dacia\" \n",
    "result=str.split(\",\")\n",
    "print(result)"
   ]
  },
  {
   "cell_type": "code",
   "execution_count": null,
   "id": "c6f3ad05",
   "metadata": {},
   "outputs": [],
   "source": []
  }
 ],
 "metadata": {
  "kernelspec": {
   "display_name": "Python 3",
   "language": "python",
   "name": "python3"
  },
  "language_info": {
   "codemirror_mode": {
    "name": "ipython",
    "version": 3
   },
   "file_extension": ".py",
   "mimetype": "text/x-python",
   "name": "python",
   "nbconvert_exporter": "python",
   "pygments_lexer": "ipython3",
   "version": "3.8.8"
  }
 },
 "nbformat": 4,
 "nbformat_minor": 5
}
