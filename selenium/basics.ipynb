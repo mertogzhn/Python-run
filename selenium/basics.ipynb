{
 "cells": [
  {
   "cell_type": "code",
   "execution_count": 9,
   "metadata": {},
   "outputs": [
    {
     "name": "stdout",
     "output_type": "stream",
     "text": [
      "mertogzhn (Mert Oğuzhanasiltürk) · GitHub\n"
     ]
    }
   ],
   "source": [
    "from selenium import webdriver\n",
    "import time\n",
    "\n",
    "driver = webdriver.Firefox()\n",
    "\n",
    "url =\"http://github.com\"\n",
    "\n",
    "driver.get(url)\n",
    "\n",
    "time.sleep(2)\n",
    "driver.maximize_window()\n",
    "driver.save_screenshot(\"github-anasayda.png\")\n",
    "\n",
    "url=\"https://github.com/mertogzhn\"\n",
    "driver.get(url)\n",
    "\n",
    "print(driver.title)\n",
    "\n",
    "if \"Mert Oğuzhanasiltürk\" in driver.title:\n",
    "    driver.save_screenshot(\"repo-ss.png\")\n",
    "\n",
    "\n",
    "time.sleep(2)\n",
    "driver.back()\n",
    "#driver.forward() ileri gider\n",
    "\n",
    "time.sleep(2)\n",
    "driver.close()\n"
   ]
  },
  {
   "cell_type": "code",
   "execution_count": null,
   "metadata": {},
   "outputs": [],
   "source": []
  }
 ],
 "metadata": {
  "interpreter": {
   "hash": "cef46d8763824d289992c8860a3089a1bef4a42fe2d41953bcdbf60b30f3f62d"
  },
  "kernelspec": {
   "display_name": "Python 3.8.10 64-bit (windows store)",
   "language": "python",
   "name": "python3"
  },
  "language_info": {
   "codemirror_mode": {
    "name": "ipython",
    "version": 3
   },
   "file_extension": ".py",
   "mimetype": "text/x-python",
   "name": "python",
   "nbconvert_exporter": "python",
   "pygments_lexer": "ipython3",
   "version": "3.8.10"
  },
  "orig_nbformat": 4
 },
 "nbformat": 4,
 "nbformat_minor": 2
}
