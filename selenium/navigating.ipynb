{
 "cells": [
  {
   "cell_type": "code",
   "execution_count": 6,
   "metadata": {},
   "outputs": [],
   "source": [
    "from selenium import webdriver\n",
    "from selenium.webdriver.common.keys import Keys\n",
    "import time\n"
   ]
  },
  {
   "cell_type": "code",
   "execution_count": 13,
   "metadata": {},
   "outputs": [
    {
     "name": "stderr",
     "output_type": "stream",
     "text": [
      "C:\\Users\\merto\\AppData\\Local\\Temp\\ipykernel_12220\\1192906839.py:11: DeprecationWarning: find_element_by_xpath is deprecated. Please use find_element(by=By.XPATH, value=xpath) instead\n",
      "  searchInput= driver.find_element_by_xpath(\"/html/body/div[1]/header/div/div[2]/div[2]/div[1]/div/div/form/label/input[1]\")\n"
     ]
    }
   ],
   "source": [
    "driver = webdriver.Firefox()\n",
    "\n",
    "url=\"http://github.com\"\n",
    "\n",
    "driver.get(url)\n",
    "\n",
    "#searchInput= driver.find_element_by_name(\"q\")\n",
    "#time.sleep(1)\n",
    "\n",
    "#xpathe göre arama yapar\n",
    "searchInput= driver.find_element_by_xpath(\"/html/body/div[1]/header/div/div[2]/div[2]/div[1]/div/div/form/label/input[1]\")\n",
    "time.sleep(1)\n",
    "\n",
    "\n",
    "searchInput.send_keys(\"python\")\n",
    "time.sleep(2)\n",
    "\n",
    "searchInput.send_keys(Keys.ENTER)\n",
    "time.sleep(2)\n",
    "\n",
    "#boşlulkar bırakarak altındaki diyebiliriz\n",
    "#result =driver.find_elements_by_css_selector(\".repo-list-item a\") \n",
    "#for element in result:\n",
    "#    print(element.text)\n",
    "\n",
    "\n",
    "#Kaynak koda ulaşma\n",
    "#result =driver.page_source\n",
    "#print(result)\n",
    "\n",
    "driver.close()\n"
   ]
  },
  {
   "cell_type": "code",
   "execution_count": null,
   "metadata": {},
   "outputs": [],
   "source": []
  }
 ],
 "metadata": {
  "interpreter": {
   "hash": "cef46d8763824d289992c8860a3089a1bef4a42fe2d41953bcdbf60b30f3f62d"
  },
  "kernelspec": {
   "display_name": "Python 3.8.10 64-bit (windows store)",
   "language": "python",
   "name": "python3"
  },
  "language_info": {
   "codemirror_mode": {
    "name": "ipython",
    "version": 3
   },
   "file_extension": ".py",
   "mimetype": "text/x-python",
   "name": "python",
   "nbconvert_exporter": "python",
   "pygments_lexer": "ipython3",
   "version": "3.8.10"
  },
  "orig_nbformat": 4
 },
 "nbformat": 4,
 "nbformat_minor": 2
}
