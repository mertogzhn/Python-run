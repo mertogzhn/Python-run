{
 "cells": [
  {
   "cell_type": "code",
   "execution_count": 4,
   "id": "c4c68562",
   "metadata": {},
   "outputs": [
    {
     "name": "stdout",
     "output_type": "stream",
     "text": [
      "Ögrenci No: 136\n",
      "Ögrenci Adı: mert\n",
      "Ögrencinin Soyadı: oguz\n",
      "Ögrenci Telefon Numarası: 544\n"
     ]
    }
   ],
   "source": [
    "ögrenci={}\n",
    "\n",
    "number=input(\"Ögrenci No: \")\n",
    "ad=input(\"Ögrenci Adı: \")\n",
    "soyad=input(\"Ögrencinin Soyadı: \")\n",
    "tel=input(\"Ögrenci Telefon Numarası: \")\n",
    "\n",
    "ögrenci={str(number):{\"ad\":ad,\"soyad\":soyad,\"tel\":tel}}"
   ]
  },
  {
   "cell_type": "code",
   "execution_count": 5,
   "id": "03ab7d8a",
   "metadata": {},
   "outputs": [
    {
     "data": {
      "text/plain": [
       "{'136': {'ad': 'mert', 'soyad': 'oguz', 'tel': '544'}}"
      ]
     },
     "execution_count": 5,
     "metadata": {},
     "output_type": "execute_result"
    }
   ],
   "source": [
    "ögrenci"
   ]
  },
  {
   "cell_type": "code",
   "execution_count": 6,
   "id": "0d1182fe",
   "metadata": {},
   "outputs": [
    {
     "data": {
      "text/plain": [
       "{'ad': 'mert', 'soyad': 'oguz', 'tel': '544'}"
      ]
     },
     "execution_count": 6,
     "metadata": {},
     "output_type": "execute_result"
    }
   ],
   "source": [
    "ögrenci[\"136\"]"
   ]
  },
  {
   "cell_type": "code",
   "execution_count": 10,
   "id": "2c16813d",
   "metadata": {},
   "outputs": [
    {
     "name": "stdout",
     "output_type": "stream",
     "text": [
      "Ögrenci No: a1\n",
      "Ögrenci Adı: 1\n",
      "Ögrencinin Soyadı: 1\n",
      "Ögrenci Telefon Numarası: 1\n",
      "{'136': {'ad': 'mert', 'soyad': 'oguz', 'tel': '544'}, '145': {'ad': 'erkin', 'soyad': 'soyad', 'tel': '589'}, 'a1': {'ad': '1', 'soyad': '1', 'tel': '1'}}\n"
     ]
    }
   ],
   "source": [
    "number=input(\"Ögrenci No: \")\n",
    "ad=input(\"Ögrenci Adı: \")\n",
    "soyad=input(\"Ögrencinin Soyadı: \")\n",
    "tel=input(\"Ögrenci Telefon Numarası: \")\n",
    "\n",
    "ögrenci.update({number:{\"ad\":ad,\n",
    "                       \"soyad\":soyad,\n",
    "                        \"tel\":tel\n",
    "                       }})\n",
    "\n",
    "print(ögrenci)"
   ]
  },
  {
   "cell_type": "code",
   "execution_count": 11,
   "id": "4547a91e",
   "metadata": {},
   "outputs": [
    {
     "name": "stdout",
     "output_type": "stream",
     "text": [
      "{'136': {'ad': 'mert', 'soyad': 'oguz', 'tel': '544'}, '145': {'ad': 'erkin', 'soyad': 'soyad', 'tel': '589'}, 'a1': {'ad': '1', 'soyad': '1', 'tel': '1'}}\n"
     ]
    }
   ],
   "source": [
    "print(ögrenci)\n"
   ]
  },
  {
   "cell_type": "code",
   "execution_count": null,
   "id": "64bf5cd5",
   "metadata": {},
   "outputs": [],
   "source": []
  }
 ],
 "metadata": {
  "kernelspec": {
   "display_name": "Python 3",
   "language": "python",
   "name": "python3"
  },
  "language_info": {
   "codemirror_mode": {
    "name": "ipython",
    "version": 3
   },
   "file_extension": ".py",
   "mimetype": "text/x-python",
   "name": "python",
   "nbconvert_exporter": "python",
   "pygments_lexer": "ipython3",
   "version": "3.8.8"
  }
 },
 "nbformat": 4,
 "nbformat_minor": 5
}
