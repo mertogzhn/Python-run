{
 "cells": [
  {
   "cell_type": "code",
   "execution_count": 10,
   "id": "cb8cca67",
   "metadata": {},
   "outputs": [
    {
     "name": "stdout",
     "output_type": "stream",
     "text": [
      "sayı1 ne olsun: 98\n",
      "sayı2 ne olsun: 45\n"
     ]
    }
   ],
   "source": [
    "x=int(input(\"sayı1 ne olsun: \"  ))\n",
    "y=int(input(\"sayı2 ne olsun: \"  ))"
   ]
  },
  {
   "cell_type": "code",
   "execution_count": 13,
   "id": "ae40d72b",
   "metadata": {},
   "outputs": [
    {
     "name": "stdout",
     "output_type": "stream",
     "text": [
      "[98, 45]\n",
      "[45, 98]\n",
      "Bütük olan sayı 45\n"
     ]
    }
   ],
   "source": [
    "sıra=[x,y]\n",
    "print(sıra)\n",
    "sıra.sort()\n",
    "print(sıra)\n",
    "print(f\"Bütük olan sayı {sıra[0]}\")"
   ]
  },
  {
   "cell_type": "code",
   "execution_count": null,
   "id": "b6bb9156",
   "metadata": {},
   "outputs": [],
   "source": []
  }
 ],
 "metadata": {
  "kernelspec": {
   "display_name": "Python 3",
   "language": "python",
   "name": "python3"
  },
  "language_info": {
   "codemirror_mode": {
    "name": "ipython",
    "version": 3
   },
   "file_extension": ".py",
   "mimetype": "text/x-python",
   "name": "python",
   "nbconvert_exporter": "python",
   "pygments_lexer": "ipython3",
   "version": "3.8.8"
  }
 },
 "nbformat": 4,
 "nbformat_minor": 5
}
