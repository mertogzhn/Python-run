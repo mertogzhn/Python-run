{
 "cells": [
  {
   "cell_type": "code",
   "execution_count": 2,
   "id": "a014dbeb",
   "metadata": {},
   "outputs": [
    {
     "name": "stdout",
     "output_type": "stream",
     "text": [
      "3\n"
     ]
    }
   ],
   "source": [
    "import random\n",
    "a = random.randint(1,100)\n",
    "print(a)"
   ]
  },
  {
   "cell_type": "code",
   "execution_count": 35,
   "id": "0f19cc9e",
   "metadata": {},
   "outputs": [
    {
     "name": "stdout",
     "output_type": "stream",
     "text": [
      "47.81\n"
     ]
    }
   ],
   "source": [
    "liste=[]\n",
    "\n",
    "for i in range(100):\n",
    "    a = random.randint(1,100)\n",
    "    liste.insert(i,a)\n",
    "    \n",
    "#print(liste,end=\" \")\n",
    "print(sum(liste)/100)"
   ]
  },
  {
   "cell_type": "code",
   "execution_count": 37,
   "id": "b358da6f",
   "metadata": {},
   "outputs": [
    {
     "name": "stdout",
     "output_type": "stream",
     "text": [
      "1\n",
      "100\n"
     ]
    }
   ],
   "source": [
    "print(min(liste))\n",
    "print(max(liste))"
   ]
  },
  {
   "cell_type": "code",
   "execution_count": 39,
   "id": "36fe58d6",
   "metadata": {},
   "outputs": [
    {
     "data": {
      "text/plain": [
       "[78, 27, 23]"
      ]
     },
     "execution_count": 39,
     "metadata": {},
     "output_type": "execute_result"
    }
   ],
   "source": [
    "liste[3:6]\n"
   ]
  },
  {
   "cell_type": "code",
   "execution_count": null,
   "id": "0028bdd9",
   "metadata": {},
   "outputs": [],
   "source": []
  }
 ],
 "metadata": {
  "kernelspec": {
   "display_name": "Python 3",
   "language": "python",
   "name": "python3"
  },
  "language_info": {
   "codemirror_mode": {
    "name": "ipython",
    "version": 3
   },
   "file_extension": ".py",
   "mimetype": "text/x-python",
   "name": "python",
   "nbconvert_exporter": "python",
   "pygments_lexer": "ipython3",
   "version": "3.8.8"
  }
 },
 "nbformat": 4,
 "nbformat_minor": 5
}
