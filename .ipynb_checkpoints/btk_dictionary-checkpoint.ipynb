{
 "cells": [
  {
   "cell_type": "code",
   "execution_count": 7,
   "id": "aa995853",
   "metadata": {},
   "outputs": [
    {
     "name": "stdout",
     "output_type": "stream",
     "text": [
      "41\n",
      "33\n"
     ]
    }
   ],
   "source": [
    "#plakalar={\"key\":\"value\"} dictionary kullanımı\n",
    "\n",
    "plakalar={\"Kocaeli\":41,\"İstanbul\":34,\"Mersin\":33,\"Bursa\":16}\n",
    "\n",
    "print(plakalar[\"Kocaeli\"])\n",
    "print(plakalar[\"Mersin\"])"
   ]
  },
  {
   "cell_type": "code",
   "execution_count": 8,
   "id": "768b510c",
   "metadata": {},
   "outputs": [
    {
     "name": "stdout",
     "output_type": "stream",
     "text": [
      "6\n"
     ]
    }
   ],
   "source": [
    "plakalar[\"Ankara\"]=6\n",
    "print(plakalar[\"Ankara\"])"
   ]
  },
  {
   "cell_type": "code",
   "execution_count": 9,
   "id": "0510f65c",
   "metadata": {},
   "outputs": [
    {
     "data": {
      "text/plain": [
       "{'Kocaeli': 41, 'İstanbul': 34, 'Mersin': 33, 'Bursa': 16, 'Ankara': 6}"
      ]
     },
     "execution_count": 9,
     "metadata": {},
     "output_type": "execute_result"
    }
   ],
   "source": [
    "plakalar"
   ]
  },
  {
   "cell_type": "code",
   "execution_count": null,
   "id": "b94ec4ed",
   "metadata": {},
   "outputs": [],
   "source": []
  }
 ],
 "metadata": {
  "kernelspec": {
   "display_name": "Python 3",
   "language": "python",
   "name": "python3"
  },
  "language_info": {
   "codemirror_mode": {
    "name": "ipython",
    "version": 3
   },
   "file_extension": ".py",
   "mimetype": "text/x-python",
   "name": "python",
   "nbconvert_exporter": "python",
   "pygments_lexer": "ipython3",
   "version": "3.8.8"
  }
 },
 "nbformat": 4,
 "nbformat_minor": 5
}
