{
 "cells": [
  {
   "cell_type": "code",
   "execution_count": null,
   "id": "e992c133",
   "metadata": {},
   "outputs": [],
   "source": [
    "birler=0\n",
    "sifirlar=0\n",
    "for i in range(10):\n",
    "    a = int(input(\"0 mi 1 mi? : \"))\n",
    "    if a== 1:\n",
    "        birler+=1\n",
    "        \n",
    "    else:\n",
    "        sifirlar+=1\n",
    "        \n",
    "print(str(birler)+\" kere True,\" + str(sifirlar)+\" kere False girdiniz \",)\n",
    "if birler >5:\n",
    "    print(\"Bonuss...\")\n",
    "\n",
    "        \n",
    "    "
   ]
  }
 ],
 "metadata": {
  "kernelspec": {
   "display_name": "Python 3",
   "language": "python",
   "name": "python3"
  },
  "language_info": {
   "codemirror_mode": {
    "name": "ipython",
    "version": 3
   },
   "file_extension": ".py",
   "mimetype": "text/x-python",
   "name": "python",
   "nbconvert_exporter": "python",
   "pygments_lexer": "ipython3",
   "version": "3.8.8"
  }
 },
 "nbformat": 4,
 "nbformat_minor": 5
}
