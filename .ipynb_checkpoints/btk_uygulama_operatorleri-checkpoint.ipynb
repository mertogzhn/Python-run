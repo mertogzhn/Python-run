{
 "cells": [
  {
   "cell_type": "code",
   "execution_count": 9,
   "id": "81671f95",
   "metadata": {},
   "outputs": [],
   "source": [
    "x,y,z=2,5,107\n",
    "toplam=x+y+z\n",
    "\n",
    "numbers=1,5,7,10,6\n",
    "\n"
   ]
  },
  {
   "cell_type": "code",
   "execution_count": 6,
   "id": "7c6d2c96",
   "metadata": {},
   "outputs": [
    {
     "name": "stdout",
     "output_type": "stream",
     "text": [
      "sayi gir:78\n",
      "sayi gir:45\n",
      "3396\n"
     ]
    }
   ],
   "source": [
    "a=int(input(\"sayi gir:\"))\n",
    "b=int(input(\"sayi gir:\"))\n",
    "\n",
    "print((a*b)-(x+y+z))\n",
    "\n"
   ]
  },
  {
   "cell_type": "code",
   "execution_count": 8,
   "id": "0125c778",
   "metadata": {},
   "outputs": [
    {
     "name": "stdout",
     "output_type": "stream",
     "text": [
      "2.5\n"
     ]
    }
   ],
   "source": [
    "print(y/x)"
   ]
  },
  {
   "cell_type": "code",
   "execution_count": 10,
   "id": "fc2a1d5f",
   "metadata": {},
   "outputs": [
    {
     "name": "stdout",
     "output_type": "stream",
     "text": [
      "0\n"
     ]
    }
   ],
   "source": [
    "print(toplam%3)"
   ]
  },
  {
   "cell_type": "code",
   "execution_count": 11,
   "id": "e3763108",
   "metadata": {},
   "outputs": [
    {
     "data": {
      "text/plain": [
       "25"
      ]
     },
     "execution_count": 11,
     "metadata": {},
     "output_type": "execute_result"
    }
   ],
   "source": [
    "y**x"
   ]
  },
  {
   "cell_type": "code",
   "execution_count": 16,
   "id": "b6b6db35",
   "metadata": {},
   "outputs": [],
   "source": [
    "x,*y,z=numbers"
   ]
  },
  {
   "cell_type": "code",
   "execution_count": 30,
   "id": "69065b04",
   "metadata": {},
   "outputs": [
    {
     "name": "stdout",
     "output_type": "stream",
     "text": [
      "[5, 7, 10]\n",
      "36\n"
     ]
    }
   ],
   "source": [
    "print(y)\n",
    "print(z**2)"
   ]
  },
  {
   "cell_type": "code",
   "execution_count": 31,
   "id": "d528ba7a",
   "metadata": {},
   "outputs": [],
   "source": [
    "toplam=0\n",
    "for i in range(len(y)):\n",
    "    toplam+=y[i]"
   ]
  },
  {
   "cell_type": "code",
   "execution_count": 32,
   "id": "ac96b23a",
   "metadata": {},
   "outputs": [
    {
     "data": {
      "text/plain": [
       "22"
      ]
     },
     "execution_count": 32,
     "metadata": {},
     "output_type": "execute_result"
    }
   ],
   "source": [
    "toplam"
   ]
  },
  {
   "cell_type": "code",
   "execution_count": null,
   "id": "3f45e05a",
   "metadata": {},
   "outputs": [],
   "source": []
  }
 ],
 "metadata": {
  "kernelspec": {
   "display_name": "Python 3",
   "language": "python",
   "name": "python3"
  },
  "language_info": {
   "codemirror_mode": {
    "name": "ipython",
    "version": 3
   },
   "file_extension": ".py",
   "mimetype": "text/x-python",
   "name": "python",
   "nbconvert_exporter": "python",
   "pygments_lexer": "ipython3",
   "version": "3.8.8"
  }
 },
 "nbformat": 4,
 "nbformat_minor": 5
}
