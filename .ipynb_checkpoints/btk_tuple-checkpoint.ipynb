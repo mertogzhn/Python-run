{
 "cells": [
  {
   "cell_type": "code",
   "execution_count": 7,
   "id": "4add51fc",
   "metadata": {},
   "outputs": [
    {
     "name": "stdout",
     "output_type": "stream",
     "text": [
      "<class 'list'>\n",
      "<class 'tuple'>\n",
      "(1, 'iki', 3)\n"
     ]
    }
   ],
   "source": [
    "list=[1,2,3]\n",
    "\n",
    "tuple=(1,\"iki\",3)\n",
    "\n",
    "print(type(list))\n",
    "print(type(tuple))\n",
    "print(tuple)\n",
    "\n",
    "\n",
    "#'tuple' object does not support item assignment\n",
    "#tuple[0]=\"deniz\"\n",
    "\n",
    "#sonradan atama ypaılamaz ama sıfırdan yaratılanbilir.\n",
    "tuple=(\"ali\",\"veli\",45)"
   ]
  },
  {
   "cell_type": "code",
   "execution_count": 9,
   "id": "b687f09e",
   "metadata": {},
   "outputs": [
    {
     "name": "stdout",
     "output_type": "stream",
     "text": [
      "('ali', 'veli', 45)\n"
     ]
    }
   ],
   "source": [
    "print(tuple)"
   ]
  },
  {
   "cell_type": "code",
   "execution_count": 10,
   "id": "a7d55d44",
   "metadata": {},
   "outputs": [
    {
     "name": "stdout",
     "output_type": "stream",
     "text": [
      "0\n"
     ]
    }
   ],
   "source": [
    "print(tuple.index(\"ali\"))"
   ]
  },
  {
   "cell_type": "code",
   "execution_count": null,
   "id": "d58b4615",
   "metadata": {},
   "outputs": [],
   "source": []
  }
 ],
 "metadata": {
  "kernelspec": {
   "display_name": "Python 3",
   "language": "python",
   "name": "python3"
  },
  "language_info": {
   "codemirror_mode": {
    "name": "ipython",
    "version": 3
   },
   "file_extension": ".py",
   "mimetype": "text/x-python",
   "name": "python",
   "nbconvert_exporter": "python",
   "pygments_lexer": "ipython3",
   "version": "3.8.8"
  }
 },
 "nbformat": 4,
 "nbformat_minor": 5
}
