{
 "cells": [
  {
   "cell_type": "code",
   "execution_count": 26,
   "metadata": {},
   "outputs": [],
   "source": [
    "#class\n",
    "\n",
    "class Person:\n",
    "    \n",
    "    #class attributes. Mutlaka tanımlanması gerekmez\n",
    "    address=\"no information\"\n",
    "\n",
    "    #constructor (yapıcı metod) init metodu oluşturulan her bir obje için çalıştırılır (mutlaka tanımlanması istenenlerdir)\n",
    "    def __init__(self,name,year):\n",
    "        #object attributes\n",
    "        self.name=name\n",
    "        self.year=year\n",
    "    \n",
    "    #instance methods\n",
    "    def intro(self):\n",
    "        print(\"hello \" + self.name)\n"
   ]
  },
  {
   "cell_type": "code",
   "execution_count": 27,
   "metadata": {},
   "outputs": [
    {
     "name": "stdout",
     "output_type": "stream",
     "text": [
      "name: mert dogum  yili: 1998\n",
      "mersin\n",
      "hello mert\n"
     ]
    }
   ],
   "source": [
    "#object\n",
    "\n",
    "p1=Person(\"mert\",1998)\n",
    "\n",
    "print(f\"name: {p1.name} dogum  yili: {p1.year}\")\n",
    "\n",
    "p1.address=\"mersin\"\n",
    "print(p1.address)\n",
    "\n",
    "#updating\n",
    "\n",
    "#p1.name=\"merto\"\n",
    "#print(p1.name)\n",
    "\n",
    "p1.intro()"
   ]
  },
  {
   "cell_type": "code",
   "execution_count": 32,
   "metadata": {},
   "outputs": [],
   "source": [
    "class Circle:\n",
    "\n",
    "    pi=3.14\n",
    "\n",
    "    def __init__(self, yaricap=1):\n",
    "        self.yaricap=yaricap\n",
    "\n",
    "    #methods\n",
    "    def cevre_hesapla(self):\n",
    "        return 2 * self.pi * self.yaricap\n",
    "\n",
    "    def alan_hesapla(self):\n",
    "        return self.pi*(self.yaricap**2)\n"
   ]
  },
  {
   "cell_type": "code",
   "execution_count": 33,
   "metadata": {},
   "outputs": [
    {
     "name": "stdout",
     "output_type": "stream",
     "text": [
      "6.28\n",
      "3.14\n",
      "31.400000000000002\n",
      "78.5\n"
     ]
    }
   ],
   "source": [
    "c1 = Circle()\n",
    "c2= Circle(5)\n",
    "\n",
    "print(c1.cevre_hesapla())\n",
    "print(c1.alan_hesapla())\n",
    "\n",
    "print(c2.cevre_hesapla())\n",
    "print(c2.alan_hesapla())\n"
   ]
  },
  {
   "cell_type": "code",
   "execution_count": 44,
   "metadata": {},
   "outputs": [],
   "source": [
    "#Inheritance (Kalıtım): Miras alma\n",
    "\n",
    "class Insan():\n",
    "    def __init__(self,fname,lname):\n",
    "        self.firstName=fname\n",
    "        self.lastName = lname\n",
    "        print(\"Person Created\")\n",
    "\n",
    "class Ogrenci(Insan):\n",
    "    def __init__(self,fname,lname,sinifi):\n",
    "        Insan.__init__(self,fname,lname)\n",
    "        self.sinifi=sinifi\n",
    "        print(\"ogrenci oluşturuldu\")"
   ]
  },
  {
   "cell_type": "code",
   "execution_count": 46,
   "metadata": {},
   "outputs": [
    {
     "name": "stdout",
     "output_type": "stream",
     "text": [
      "Person Created\n",
      "ogrenci oluşturuldu\n",
      "5A\n"
     ]
    }
   ],
   "source": [
    "o1=Ogrenci(\"mert\",\"oguz\",\"5A\")\n",
    "\n",
    "print(o1.sinifi)"
   ]
  },
  {
   "cell_type": "code",
   "execution_count": 4,
   "metadata": {},
   "outputs": [],
   "source": [
    "class Movie():\n",
    "    def __init__(self,title,director,duration):\n",
    "        self.title=title\n",
    "        self.director=director\n",
    "        self.duration=duration\n",
    "        print(\"movie oluşturuldu\")\n",
    "\n",
    "    def __str__(self):\n",
    "        return f\"{self.title} by {self.director} \""
   ]
  },
  {
   "cell_type": "code",
   "execution_count": 6,
   "metadata": {},
   "outputs": [
    {
     "name": "stdout",
     "output_type": "stream",
     "text": [
      "movie oluşturuldu\n",
      "filmin adi by Yönetmeni \n"
     ]
    }
   ],
   "source": [
    "m=Movie(\"filmin adi\",\"Yönetmeni\",\"süresi\")\n",
    "\n",
    "print(str(m))"
   ]
  },
  {
   "cell_type": "code",
   "execution_count": null,
   "metadata": {},
   "outputs": [],
   "source": []
  }
 ],
 "metadata": {
  "interpreter": {
   "hash": "11fffad979c5be305b1ca19131fe44c87abce18a2041d395452972f74e403b64"
  },
  "kernelspec": {
   "display_name": "Python 3.8.8 ('base')",
   "language": "python",
   "name": "python3"
  },
  "language_info": {
   "codemirror_mode": {
    "name": "ipython",
    "version": 3
   },
   "file_extension": ".py",
   "mimetype": "text/x-python",
   "name": "python",
   "nbconvert_exporter": "python",
   "pygments_lexer": "ipython3",
   "version": "3.8.8"
  },
  "orig_nbformat": 4
 },
 "nbformat": 4,
 "nbformat_minor": 2
}
