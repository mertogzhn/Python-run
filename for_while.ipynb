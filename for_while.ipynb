{
 "cells": [
  {
   "cell_type": "code",
   "execution_count": 9,
   "id": "9e38a4e2",
   "metadata": {},
   "outputs": [],
   "source": [
    "sayilar =[1,3,5,7,9,12,19,21]"
   ]
  },
  {
   "cell_type": "code",
   "execution_count": 13,
   "id": "c513ae79",
   "metadata": {},
   "outputs": [
    {
     "name": "stdout",
     "output_type": "stream",
     "text": [
      "[3, 9, 12, 21]\n"
     ]
    }
   ],
   "source": [
    "#üçün katları\n",
    "uck=[]\n",
    "\n",
    "for i in sayilar:\n",
    "    #print(i)\n",
    "    if i%3==0:\n",
    "        uck.append(i)\n",
    "        \n",
    "print(uck)"
   ]
  },
  {
   "cell_type": "code",
   "execution_count": 18,
   "id": "ec1a3c4e",
   "metadata": {},
   "outputs": [
    {
     "name": "stdout",
     "output_type": "stream",
     "text": [
      "77\n"
     ]
    }
   ],
   "source": [
    "#sayıların toplamı\n",
    "toplam=0\n",
    "\n",
    "for i in sayilar:\n",
    "    toplam+=i\n",
    "    \n",
    "print(toplam)"
   ]
  },
  {
   "cell_type": "code",
   "execution_count": 19,
   "id": "59fe28b8",
   "metadata": {},
   "outputs": [
    {
     "name": "stdout",
     "output_type": "stream",
     "text": [
      "1 sayisinin karesi 1'dir\n",
      "3 sayisinin karesi 9'dir\n",
      "5 sayisinin karesi 25'dir\n",
      "7 sayisinin karesi 49'dir\n",
      "9 sayisinin karesi 81'dir\n",
      "19 sayisinin karesi 361'dir\n",
      "21 sayisinin karesi 441'dir\n"
     ]
    }
   ],
   "source": [
    "#tek sayıların karesi\n",
    "\n",
    "for i in sayilar:\n",
    "    if (i%2)!=0:\n",
    "        print(f\"{i} sayisinin karesi {i**2}'dir\")\n"
   ]
  },
  {
   "cell_type": "code",
   "execution_count": 27,
   "id": "c3dae7db",
   "metadata": {},
   "outputs": [],
   "source": [
    "sehirler=[\"kocaeli\",\"istanbul\",\"ankara\",\"izmir\",\"rize\",\"mersin\",\"izmit\"]"
   ]
  },
  {
   "cell_type": "code",
   "execution_count": 28,
   "id": "b812e4ca",
   "metadata": {},
   "outputs": [
    {
     "name": "stdout",
     "output_type": "stream",
     "text": [
      "izmir\n",
      "rize\n",
      "izmit\n"
     ]
    }
   ],
   "source": [
    "#en fazla 5 karakterli olan şehirler\n",
    "\n",
    "for i in sehirler:\n",
    "    \n",
    "    if len(i)<=5:\n",
    "        print(i)\n",
    "        \n"
   ]
  },
  {
   "cell_type": "code",
   "execution_count": 30,
   "id": "c7dc38b5",
   "metadata": {},
   "outputs": [],
   "source": [
    "urunler=[\n",
    "    {\"name\":\"samsung s6\",\"price\":\"3000\"},\n",
    "    {\"name\":\"samsung s7\",\"price\":\"4000\"},\n",
    "    {\"name\":\"samsung s8\",\"price\":\"5000\"},\n",
    "    {\"name\":\"samsung s9\",\"price\":\"6000\"},\n",
    "    {\"name\":\"samsung s10\",\"price\":\"7000\"}\n",
    "]"
   ]
  },
  {
   "cell_type": "code",
   "execution_count": 35,
   "id": "ece2fd03",
   "metadata": {},
   "outputs": [
    {
     "name": "stdout",
     "output_type": "stream",
     "text": [
      "3000\n"
     ]
    }
   ],
   "source": [
    "print(urunler[0][\"price\"])"
   ]
  },
  {
   "cell_type": "code",
   "execution_count": 44,
   "id": "9eb3206d",
   "metadata": {},
   "outputs": [
    {
     "name": "stdout",
     "output_type": "stream",
     "text": [
      "25000\n"
     ]
    }
   ],
   "source": [
    "uruntoplam=0\n",
    "\n",
    "for i in urunler:\n",
    "    uruntoplam+=int(i[\"price\"])\n",
    "    \n",
    "print(uruntoplam)"
   ]
  },
  {
   "cell_type": "code",
   "execution_count": 47,
   "id": "8abce4d0",
   "metadata": {},
   "outputs": [
    {
     "name": "stdout",
     "output_type": "stream",
     "text": [
      "1\n",
      "2\n",
      "3\n",
      "4\n",
      "5\n",
      "6\n",
      "7\n",
      "8\n",
      "9\n",
      "10\n"
     ]
    }
   ],
   "source": [
    "#1-100\n",
    "\n",
    "i=1\n",
    "while i<=10:\n",
    "    print(i)\n",
    "    i+=1"
   ]
  },
  {
   "cell_type": "code",
   "execution_count": null,
   "id": "ed11b51b",
   "metadata": {},
   "outputs": [],
   "source": []
  }
 ],
 "metadata": {
  "kernelspec": {
   "display_name": "Python 3",
   "language": "python",
   "name": "python3"
  },
  "language_info": {
   "codemirror_mode": {
    "name": "ipython",
    "version": 3
   },
   "file_extension": ".py",
   "mimetype": "text/x-python",
   "name": "python",
   "nbconvert_exporter": "python",
   "pygments_lexer": "ipython3",
   "version": "3.8.8"
  }
 },
 "nbformat": 4,
 "nbformat_minor": 5
}
