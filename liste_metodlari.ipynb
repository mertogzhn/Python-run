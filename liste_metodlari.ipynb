{
 "cells": [
  {
   "cell_type": "code",
   "execution_count": 95,
   "id": "5035c23a",
   "metadata": {},
   "outputs": [
    {
     "name": "stdout",
     "output_type": "stream",
     "text": [
      "76\n"
     ]
    }
   ],
   "source": [
    "import random\n",
    "a = random.randint(1,100)\n",
    "print(a)"
   ]
  },
  {
   "cell_type": "code",
   "execution_count": 84,
   "id": "3f2223c5",
   "metadata": {},
   "outputs": [
    {
     "name": "stdout",
     "output_type": "stream",
     "text": [
      "5.53\n"
     ]
    }
   ],
   "source": [
    "liste=[]\n",
    "\n",
    "for i in range(10):\n",
    "    a = random.randint(1,100)\n",
    "    #insert(nereye,eleman) nereye ne ekleneceğini alır\n",
    "    liste.insert(i,a)\n",
    "    \n",
    "#print(liste,end=\" \")\n",
    "print(sum(liste)/100)"
   ]
  },
  {
   "cell_type": "code",
   "execution_count": 70,
   "id": "c330a3fa",
   "metadata": {},
   "outputs": [
    {
     "name": "stdout",
     "output_type": "stream",
     "text": [
      "4\n",
      "95\n"
     ]
    }
   ],
   "source": [
    "print(min(liste))\n",
    "print(max(liste))"
   ]
  },
  {
   "cell_type": "code",
   "execution_count": 71,
   "id": "b80edcb8",
   "metadata": {},
   "outputs": [
    {
     "data": {
      "text/plain": [
       "[43, 39, 4]"
      ]
     },
     "execution_count": 71,
     "metadata": {},
     "output_type": "execute_result"
    }
   ],
   "source": [
    "liste[3:6]\n"
   ]
  },
  {
   "cell_type": "code",
   "execution_count": 72,
   "id": "ecc2799c",
   "metadata": {},
   "outputs": [
    {
     "data": {
      "text/plain": [
       "[95, 23, 90, 43, 39, 4]"
      ]
     },
     "execution_count": 72,
     "metadata": {},
     "output_type": "execute_result"
    }
   ],
   "source": [
    "liste[:6]"
   ]
  },
  {
   "cell_type": "code",
   "execution_count": 73,
   "id": "845cde10",
   "metadata": {},
   "outputs": [
    {
     "data": {
      "text/plain": [
       "[31, 37, 78, 58]"
      ]
     },
     "execution_count": 73,
     "metadata": {},
     "output_type": "execute_result"
    }
   ],
   "source": [
    "liste[6:]"
   ]
  },
  {
   "cell_type": "code",
   "execution_count": 76,
   "id": "787b6904",
   "metadata": {},
   "outputs": [
    {
     "name": "stdout",
     "output_type": "stream",
     "text": [
      "40\n"
     ]
    }
   ],
   "source": [
    "liste[6]=40\n",
    "print(liste[6])"
   ]
  },
  {
   "cell_type": "code",
   "execution_count": 78,
   "id": "1a32a865",
   "metadata": {},
   "outputs": [
    {
     "data": {
      "text/plain": [
       "69"
      ]
     },
     "execution_count": 78,
     "metadata": {},
     "output_type": "execute_result"
    }
   ],
   "source": [
    "#listede sona ekleme yapar\n",
    "\n",
    "liste.append(69)\n",
    "liste[-1]"
   ]
  },
  {
   "cell_type": "code",
   "execution_count": 86,
   "id": "b3702df0",
   "metadata": {},
   "outputs": [
    {
     "data": {
      "text/plain": [
       "[75, 27, 96, 88, 15, 81, 32, 89, 18]"
      ]
     },
     "execution_count": 86,
     "metadata": {},
     "output_type": "execute_result"
    }
   ],
   "source": [
    "#listeden silme işleme yapar liste.pop(0) sıfırıncı indexi siler\n",
    "\n",
    "liste.pop()\n",
    "liste"
   ]
  },
  {
   "cell_type": "code",
   "execution_count": 89,
   "id": "fdd06554",
   "metadata": {},
   "outputs": [
    {
     "data": {
      "text/plain": [
       "[27, 88, 15, 81, 32, 89, 18]"
      ]
     },
     "execution_count": 89,
     "metadata": {},
     "output_type": "execute_result"
    }
   ],
   "source": [
    "#liste.remove(4) dört elemanını siler\n",
    "liste.remove(75)\n",
    "liste"
   ]
  },
  {
   "cell_type": "code",
   "execution_count": 94,
   "id": "71d96948",
   "metadata": {},
   "outputs": [
    {
     "name": "stdout",
     "output_type": "stream",
     "text": [
      "[15, 18, 27, 32, 81, 88, 89]\n",
      "[89, 88, 81, 32, 27, 18, 15]\n"
     ]
    }
   ],
   "source": [
    "#liste.sort() sıralama yapar\n",
    "#liste.reverse() terse çeviri\n",
    "liste.sort()\n",
    "print(liste)\n",
    "liste.reverse()\n",
    "\n",
    "print(liste)"
   ]
  },
  {
   "cell_type": "code",
   "execution_count": 97,
   "id": "f4e2fbfd",
   "metadata": {},
   "outputs": [
    {
     "name": "stdout",
     "output_type": "stream",
     "text": [
      "0\n"
     ]
    }
   ],
   "source": [
    "#count() sayma yapar mesela liste.count(32) kaç tane 32 olduğunu sorar\n",
    "print(liste.count(33))"
   ]
  },
  {
   "cell_type": "code",
   "execution_count": null,
   "id": "ac142a9b",
   "metadata": {},
   "outputs": [],
   "source": []
  }
 ],
 "metadata": {
  "kernelspec": {
   "display_name": "Python 3",
   "language": "python",
   "name": "python3"
  },
  "language_info": {
   "codemirror_mode": {
    "name": "ipython",
    "version": 3
   },
   "file_extension": ".py",
   "mimetype": "text/x-python",
   "name": "python",
   "nbconvert_exporter": "python",
   "pygments_lexer": "ipython3",
   "version": "3.8.8"
  }
 },
 "nbformat": 4,
 "nbformat_minor": 5
}
